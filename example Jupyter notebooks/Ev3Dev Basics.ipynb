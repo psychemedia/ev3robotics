{
 "cells": [
  {
   "cell_type": "markdown",
   "metadata": {},
   "source": [
    "# Ev3Dev Basics\n",
    "*Tony Hirst, The Open University, @psychemedia, blog.ouseful.info*\n",
    "\n",
    "\n",
    "This notebook describes the basic operation of the Ev3 / ev3dev Python bindings for the [ev3dev-jessie-2015-12-30](https://github.com/ev3dev/ev3dev/releases/tag/ev3dev-jessie-2015-12-30) release.\n",
    "\n",
    "To set up the ev3 with IPython and configure a Jupyter notebook server to work with a remote IPython kernel running on an ev3 brick see [Using IPython on Lego EV3 Robots Running Ev3Dev](https://blog.ouseful.info/2016/05/12/using-ipython-on-lego-ev3-robots-running-ev3dev/).\n",
    "\n",
    "Reference: [Python language bindings for ev3dev](http://ev3dev-lang.readthedocs.io/projects/python-ev3dev/en/latest/); documentation included herein was originally published as inline code documentation on the original repository under a [*GNU GENERAL PUBLIC LICENSE (Version 2, June 1991)*](https://github.com/ev3dev/ev3dev-lang/blob/develop/LICENSE), re-presented as [ev3dev-lang.readthedocs.io](http://ev3dev-lang.readthedocs.io/projects/python-ev3dev/en/latest/index.html).\n",
    "\n",
    "*This notebook uses `ipywidgets`. Run Jupyter with: `jupyter nbextension enable --py --sys-prefix widgetsnbextension`*"
   ]
  },
  {
   "cell_type": "code",
   "execution_count": 1,
   "metadata": {
    "collapsed": false
   },
   "outputs": [
    {
     "name": "stdout",
     "output_type": "stream",
     "text": [
      "hello world\n"
     ]
    }
   ],
   "source": [
    "#Wake the process up (this may take some time, up to a minute or two)\n",
    "print('hello world')"
   ]
  },
  {
   "cell_type": "code",
   "execution_count": 2,
   "metadata": {
    "collapsed": true
   },
   "outputs": [],
   "source": [
    "#Python bindings exposed via https://github.com/rhempel/ev3dev-lang-python\n",
    "from ev3dev.auto import *"
   ]
  },
  {
   "cell_type": "code",
   "execution_count": 3,
   "metadata": {
    "collapsed": true
   },
   "outputs": [],
   "source": [
    "#Import time for delays\n",
    "import time"
   ]
  },
  {
   "cell_type": "code",
   "execution_count": 4,
   "metadata": {
    "collapsed": false
   },
   "outputs": [],
   "source": [
    "#Bring in a useful constant...\n",
    "from math import pi"
   ]
  },
  {
   "cell_type": "code",
   "execution_count": 5,
   "metadata": {
    "collapsed": true
   },
   "outputs": [],
   "source": [
    "#Python 2.7 needs nudging when it comes to doing division\n",
    "from __future__ import division"
   ]
  },
  {
   "cell_type": "markdown",
   "metadata": {},
   "source": [
    "## Motors - pre-kernel 10\n",
    "\n",
    "(The version 10 release of the *ev3dev* kernel introduced a revised Tacho Motor class that may be incompatible with these notes.)"
   ]
  },
  {
   "cell_type": "code",
   "execution_count": 241,
   "metadata": {
    "collapsed": false
   },
   "outputs": [],
   "source": [
    "M=Motor()"
   ]
  },
  {
   "cell_type": "code",
   "execution_count": 244,
   "metadata": {
    "collapsed": true
   },
   "outputs": [],
   "source": [
    "#Show docs\n",
    "M?"
   ]
  },
  {
   "cell_type": "markdown",
   "metadata": {},
   "source": [
    "The IPython notebooks support *tab completion*. Enter the name of an object, followed by a . and then hit *TAB*: you will be presented with a list of valid methods that can be called on that object."
   ]
  },
  {
   "cell_type": "code",
   "execution_count": null,
   "metadata": {
    "collapsed": true
   },
   "outputs": [],
   "source": [
    "#Show methods in base Motor() class using tab completion. Type: M. followed by TAB\n",
    "M."
   ]
  },
  {
   "cell_type": "code",
   "execution_count": 12,
   "metadata": {
    "collapsed": false
   },
   "outputs": [
    {
     "name": "stdout",
     "output_type": "stream",
     "text": [
      "('outA', 'outB', 'outC', 'outD')\n"
     ]
    }
   ],
   "source": [
    "#Show values of OUTPUT_* constants\n",
    "print(OUTPUT_A, OUTPUT_B, OUTPUT_C, OUTPUT_D)"
   ]
  },
  {
   "cell_type": "markdown",
   "metadata": {},
   "source": [
    "### Large Motor\n",
    "\n",
    "The large servo motor is the motor most likely to be used to drive the wheels on a mobile robot."
   ]
  },
  {
   "cell_type": "code",
   "execution_count": 12,
   "metadata": {
    "collapsed": true
   },
   "outputs": [],
   "source": [
    "# Define a large servo motor on output A\n",
    "m = LargeMotor(OUTPUT_A)\n",
    "\n",
    "#Legitimate output values: OUTPUT_A | OUTPUT_B | OUTPUT_C | OUTPUT_D"
   ]
  },
  {
   "cell_type": "markdown",
   "metadata": {},
   "source": [
    "#### Gotchas and Errors\n",
    "\n",
    "A list of gotchas and error fixes found to date.."
   ]
  },
  {
   "cell_type": "markdown",
   "metadata": {},
   "source": [
    "#### Brick Issues\n",
    "\n",
    "- __Problem on boot - boot stalls__: not sure what the issue is here - my hunch is booting with a particular sensor or sensor combination is messing things up; fix is to take battery out and reboot with sensors disconnected. *Problem when infra-red sensor connected?*\n",
    "- __kernel doesn't seem to start correctly__: save notebook, `File -> Close and Halt`, make sure notebook tab is closed, then re-open notebook.\n",
    "- if the connection is lost because the brick has bricked, make sure the power supply is disconnected and then remove the battery for a few seconds (press in the two clips on the grey case on the underside of the EV3 brick). Restart the brick and wait for it to boot. Once rebooted, try `Kernel -> Reconnect`. If that doesn't work, `File -> Close and Halt`, close the notebook tab, then re-open the notebook;\n",
    "- *low power gotchas*: as the brick starts to run on fumes, it appears as if the filesystem goes into read-only mode, so things like Filezilla become unable to copy files over to the brick, for example.\n",
    "\n",
    "#### Programming Issues\n",
    "- __infinite loop__: for example, you seem to be stuck with a motor running forever. Fix: `Kernel -> Interrupt` then run the motor stop command (e.g. `m.stop()`).\n",
    "- __time confusion__: EV3 timed commands are in `milliseconds`, `time.sleep()` is in seconds. Maybe we should define a function `def wait(period_in_ms): time.sleep(period_in_ms / 1000)`?\n",
    "\n",
    "#### Motor Issues\n",
    "- __`AttributeError: 'LargeMotor' object has no attribute '_path'`__ : check that a motor is actually connected to the port you have assigned it to.\n",
    "- __motors don't run__: check a non-zero duty cycle is set.\n",
    "- __`IOError: [Errno 19] No such device`__: each motor can only be assigned to one variable; if you assign the same physical motor port to two variables, only the last set variable will be valid.\n",
    "- __timed motor appears to be running forever__: check that time is supplied in *milliseconds* __not__ *seconds*. Fix: `Kernel -> Interrupt`. You could also try unplugging the motor; however, if you do unplug the motor, you will need to reconnect to it (for example, re-run `m = LargeMotor(OUTPUT_A)`).\n",
    "\n",
    "#### Sensor Issues\n",
    "- __`AttributeError: 'Sensor' object has no attribute '_path'`__ : check that there is at least one sensor connected\n",
    "- sensor specific methods described in the docs don't seem to be available? Docs out of kilter with verions of ev3dev python bindings we're using?\n",
    "- on some occasions, plugging lots of sensors in while a notebook kernel is running causes the kernel to fall over and restart?\n",
    "- __`TypeError: 'unicode' object is not callable`__: are you trying to read a sensor's units using `,units()`? Omit the brackets and call `.units`.\n",
    "- ultrasonic sensor units look wrong to me.\n",
    "\n",
    "\n",
    "#### Remote Control Issues\n",
    "- __`OSError: [Errno 2] No such file or directory: '/sys/class/lego-sensor'`__ on trying to set up `RemoteControl()`: check that the infra-red sensor is connected"
   ]
  },
  {
   "cell_type": "markdown",
   "metadata": {},
   "source": [
    "### Notebook Tricks\n",
    "\n",
    "Moving a large number of contiguous cells up or down, deleting them, or copy /pasting them within a notebook: click the first cell in the block to highligt it then *shift-click* the last cell in the required block. The cells should all be highlighted blue. Use the toolbar up/down arros to move the cells as a block."
   ]
  },
  {
   "cell_type": "markdown",
   "metadata": {},
   "source": [
    "#### Commands\n",
    "\n",
    "*via [python-ev3dev docs](http://ev3dev-lang.readthedocs.io/projects/python-ev3dev/en/latest/motors.html)*\n",
    "\n",
    "The commands are inherited from the `Motor` class."
   ]
  },
  {
   "cell_type": "markdown",
   "metadata": {},
   "source": [
    "- `connected`: check that the specified motor is connected; returns `True` or `False`"
   ]
  },
  {
   "cell_type": "code",
   "execution_count": 247,
   "metadata": {
    "collapsed": false
   },
   "outputs": [
    {
     "data": {
      "text/plain": [
       "True"
      ]
     },
     "execution_count": 247,
     "metadata": {},
     "output_type": "execute_result"
    }
   ],
   "source": [
    "m.connected"
   ]
  },
  {
   "cell_type": "markdown",
   "metadata": {},
   "source": [
    "- `commands` lists the commands available for the connected motor; note that the python bindings use underscores rather than dashes in the method names."
   ]
  },
  {
   "cell_type": "code",
   "execution_count": 242,
   "metadata": {
    "collapsed": false
   },
   "outputs": [
    {
     "data": {
      "text/plain": [
       "[u'run-forever',\n",
       " u'run-to-abs-pos',\n",
       " u'run-to-rel-pos',\n",
       " u'run-timed',\n",
       " u'run-direct',\n",
       " u'stop',\n",
       " u'reset']"
      ]
     },
     "execution_count": 242,
     "metadata": {},
     "output_type": "execute_result"
    }
   ],
   "source": [
    "m.commands"
   ]
  },
  {
   "cell_type": "code",
   "execution_count": 30,
   "metadata": {
    "collapsed": true
   },
   "outputs": [],
   "source": [
    "#Show help for a particular command (it will be displayed at the bottom of the notebook)\n",
    "m.reset?"
   ]
  },
  {
   "cell_type": "markdown",
   "metadata": {},
   "source": [
    "- `reset` will reset all of the motor parameter attributes to their default value. This will also have the effect of stopping the motor."
   ]
  },
  {
   "cell_type": "code",
   "execution_count": 37,
   "metadata": {
    "collapsed": true
   },
   "outputs": [],
   "source": [
    "m.reset()"
   ]
  },
  {
   "cell_type": "markdown",
   "metadata": {},
   "source": [
    "- `run_forever` will cause the motor to run until another command is sent."
   ]
  },
  {
   "cell_type": "code",
   "execution_count": 40,
   "metadata": {
    "collapsed": false
   },
   "outputs": [],
   "source": [
    "#m.run_forever() will have no effect unless a non-zero duty cycle has previously been set\n",
    "m.run_forever(duty_cycle_sp=75)\n",
    "\n",
    "#Wait for one second and then stop the motor\n",
    "time.sleep(1)\n",
    "m.stop()"
   ]
  },
  {
   "cell_type": "markdown",
   "metadata": {},
   "source": [
    "- `run_to_abs_pos` will run to an absolute position specified by `position_sp` and then stop using the command specified in `stop_action`."
   ]
  },
  {
   "cell_type": "code",
   "execution_count": 47,
   "metadata": {
    "collapsed": true
   },
   "outputs": [],
   "source": [
    "m.run_to_abs_pos(position_sp=10)"
   ]
  },
  {
   "cell_type": "markdown",
   "metadata": {},
   "source": [
    "- `run_to_rel_pos` will run to a position relative to the current position value. The new position will be current `position` + `position_sp`. When the new position is reached, the motor will stop using the command specified by `stop_action`."
   ]
  },
  {
   "cell_type": "code",
   "execution_count": 46,
   "metadata": {
    "collapsed": false
   },
   "outputs": [],
   "source": [
    "m.run_to_rel_pos(position_sp=-10)"
   ]
  },
  {
   "cell_type": "markdown",
   "metadata": {},
   "source": [
    "- `run-timed` will run the motor for *up to* the amount of time specified in `time_sp` and then stop the motor using the command specified by `stop_action`."
   ]
  },
  {
   "cell_type": "code",
   "execution_count": 48,
   "metadata": {
    "collapsed": true
   },
   "outputs": [],
   "source": [
    "#Run for 1000ms with a duty_cycle of 75% (range -100% to 100%)\n",
    "m.run_timed(time_sp=1000, duty_cycle_sp=75)"
   ]
  },
  {
   "cell_type": "markdown",
   "metadata": {},
   "source": [
    "Writing another run command while the `run_timed` command is running will reset the motor timer."
   ]
  },
  {
   "cell_type": "code",
   "execution_count": 7,
   "metadata": {
    "collapsed": true
   },
   "outputs": [],
   "source": [
    "m.run_timed(time_sp=10000, duty_cycle_sp=75)\n",
    "m.run_timed(time_sp=1000, duty_cycle_sp=75)"
   ]
  },
  {
   "cell_type": "markdown",
   "metadata": {},
   "source": [
    "To run the motor for a guaranteed fixed period of time, *blocking* the ability of other *run* motor commands to be issued within that period, use `run_forever` and `time.sleep()`."
   ]
  },
  {
   "cell_type": "code",
   "execution_count": 20,
   "metadata": {
    "collapsed": true
   },
   "outputs": [],
   "source": [
    "def run_for_period_blocking(m, time_sp, duty_cycle_sp=75):\n",
    "    m.run_forever(duty_cycle_sp=duty_cycle_sp)\n",
    "    #Sleep operates in seconds; convert from milliseconds\n",
    "    time.sleep(time_sp / 1000 )\n",
    "    m.stop()"
   ]
  },
  {
   "cell_type": "code",
   "execution_count": 21,
   "metadata": {
    "collapsed": false
   },
   "outputs": [],
   "source": [
    "run_for_period_blocking(m,2000)"
   ]
  },
  {
   "cell_type": "markdown",
   "metadata": {},
   "source": [
    "- `run_direct` will run the motor at the duty cycle specified by `duty_cycle_sp`. Unlike other run commands, changing `duty_cycle_sp` while running will take effect immediately."
   ]
  },
  {
   "cell_type": "code",
   "execution_count": 51,
   "metadata": {
    "collapsed": true
   },
   "outputs": [],
   "source": [
    "#Start the motor running with a specified duty_cycle_sp\n",
    "m.run_direct(duty_cycle_sp=75)"
   ]
  },
  {
   "cell_type": "code",
   "execution_count": 54,
   "metadata": {
    "collapsed": false
   },
   "outputs": [],
   "source": [
    "#Change the duty_cycle_sp\n",
    "m.duty_cycle_sp=50"
   ]
  },
  {
   "cell_type": "code",
   "execution_count": 55,
   "metadata": {
    "collapsed": true
   },
   "outputs": [],
   "source": [
    "#Change the duty_cycle_sp\n",
    "m.duty_cycle_sp=-50"
   ]
  },
  {
   "cell_type": "code",
   "execution_count": 56,
   "metadata": {
    "collapsed": true
   },
   "outputs": [],
   "source": [
    "#Change the duty_cycle_sp\n",
    "m.duty_cycle_sp=10"
   ]
  },
  {
   "cell_type": "code",
   "execution_count": 57,
   "metadata": {
    "collapsed": false
   },
   "outputs": [],
   "source": [
    "#Stop the motor\n",
    "m.stop()"
   ]
  },
  {
   "cell_type": "markdown",
   "metadata": {},
   "source": [
    "- `stop` will stop any of the run commands, whether or not they are complete, using the command specified by `stop_action`."
   ]
  },
  {
   "cell_type": "code",
   "execution_count": 58,
   "metadata": {
    "collapsed": true
   },
   "outputs": [],
   "source": [
    "m.run_forever(duty_cycle_sp=25)"
   ]
  },
  {
   "cell_type": "code",
   "execution_count": 59,
   "metadata": {
    "collapsed": true
   },
   "outputs": [],
   "source": [
    "m.stop()"
   ]
  },
  {
   "cell_type": "markdown",
   "metadata": {},
   "source": [
    "#### Parameters\n",
    "\n",
    "The following paramters are available for reading and, in some cases, setting."
   ]
  },
  {
   "cell_type": "markdown",
   "metadata": {},
   "source": [
    "- `address` returns the name of the port that this motor is connected to"
   ]
  },
  {
   "cell_type": "code",
   "execution_count": 60,
   "metadata": {
    "collapsed": false
   },
   "outputs": [
    {
     "data": {
      "text/plain": [
       "u'outA'"
      ]
     },
     "execution_count": 60,
     "metadata": {},
     "output_type": "execute_result"
    }
   ],
   "source": [
    "m.address"
   ]
  },
  {
   "cell_type": "markdown",
   "metadata": {},
   "source": [
    "- `state`: reading returns a list of state flags. Possible flags are `running`, `ramping`, `holding` and `stalled`."
   ]
  },
  {
   "cell_type": "code",
   "execution_count": 164,
   "metadata": {
    "collapsed": false
   },
   "outputs": [
    {
     "data": {
      "text/plain": [
       "[]"
      ]
     },
     "execution_count": 164,
     "metadata": {},
     "output_type": "execute_result"
    }
   ],
   "source": [
    "m.state"
   ]
  },
  {
   "cell_type": "code",
   "execution_count": 190,
   "metadata": {
    "collapsed": false
   },
   "outputs": [],
   "source": [
    "m.run_forever(duty_cycle_sp=30)"
   ]
  },
  {
   "cell_type": "code",
   "execution_count": 191,
   "metadata": {
    "collapsed": false
   },
   "outputs": [
    {
     "data": {
      "text/plain": [
       "[u'running']"
      ]
     },
     "execution_count": 191,
     "metadata": {},
     "output_type": "execute_result"
    }
   ],
   "source": [
    "m.state"
   ]
  },
  {
   "cell_type": "code",
   "execution_count": 192,
   "metadata": {
    "collapsed": true
   },
   "outputs": [],
   "source": [
    "m.stop()"
   ]
  },
  {
   "cell_type": "markdown",
   "metadata": {},
   "source": [
    "- `time_sp`: writing specifies the amount of time the motor will run when using the run-timed command. Reading returns the current value. Units are in *milliseconds*."
   ]
  },
  {
   "cell_type": "code",
   "execution_count": 193,
   "metadata": {
    "collapsed": false
   },
   "outputs": [
    {
     "data": {
      "text/plain": [
       "1000"
      ]
     },
     "execution_count": 193,
     "metadata": {},
     "output_type": "execute_result"
    }
   ],
   "source": [
    "m.time_sp"
   ]
  },
  {
   "cell_type": "code",
   "execution_count": 194,
   "metadata": {
    "collapsed": true
   },
   "outputs": [],
   "source": [
    "m.time_sp=200"
   ]
  },
  {
   "cell_type": "code",
   "execution_count": 195,
   "metadata": {
    "collapsed": true
   },
   "outputs": [],
   "source": [
    "m.run_timed()"
   ]
  },
  {
   "cell_type": "markdown",
   "metadata": {},
   "source": [
    "- `stop_commands` returns a list of stop actions supported by the motor controller. Possible values are `coast`, `brake` and `hold`.\n",
    "  - `coast` means that power will be removed from the motor and it will freely coast to a stop;\n",
    "  - `brake` means that power will be removed from the motor and a passive electrical load will be placed on the motor. This is usually done by shorting the motor terminals together. This load will absorb the energy from the rotation of the motors and cause the motor to stop more quickly than coasting;\n",
    "  - `hold` does not remove power from the motor. Instead it actively tries to hold the motor at the current position. If an external force tries to turn the motor, the motor will ‘push back’ to maintain its position."
   ]
  },
  {
   "cell_type": "code",
   "execution_count": 167,
   "metadata": {
    "collapsed": false
   },
   "outputs": [
    {
     "data": {
      "text/plain": [
       "[u'coast', u'brake', u'hold']"
      ]
     },
     "execution_count": 167,
     "metadata": {},
     "output_type": "execute_result"
    }
   ],
   "source": [
    "m.stop_commands"
   ]
  },
  {
   "cell_type": "markdown",
   "metadata": {},
   "source": [
    "- `stop_command`: reading returns the current stop action/command,  writing sets the stop action/command. The value determines the motors behavior when command is set to stop. Also, it determines the motors behavior when a run command completes. See `stop_commands` for a list of possible values."
   ]
  },
  {
   "cell_type": "code",
   "execution_count": 166,
   "metadata": {
    "collapsed": false
   },
   "outputs": [
    {
     "data": {
      "text/plain": [
       "u'coast'"
      ]
     },
     "execution_count": 166,
     "metadata": {},
     "output_type": "execute_result"
    }
   ],
   "source": [
    "m.stop_command"
   ]
  },
  {
   "cell_type": "code",
   "execution_count": 179,
   "metadata": {
    "collapsed": false
   },
   "outputs": [],
   "source": [
    "m.run_forever(duty_cycle_sp=100)\n",
    "time.sleep(0.5)\n",
    "\n",
    "#brake: power will be removed from the motor and a passive electrical load will be placed on the motor.\n",
    "#This is usually done by shorting the motor terminals together.\n",
    "#This load will absorb the energy from the rotation of the motors and cause the motor to stop quickly\n",
    "m.stop_command='brake'\n",
    "m.stop()"
   ]
  },
  {
   "cell_type": "code",
   "execution_count": 180,
   "metadata": {
    "collapsed": false
   },
   "outputs": [],
   "source": [
    "m.run_forever(duty_cycle_sp=100)\n",
    "time.sleep(0.5)\n",
    "\n",
    "#hold: does not remove power from the motor.\n",
    "#Instead it actively tries to hold the motor at the current position.\n",
    "#If an external force tries to turn the motor, the motor will ‘push back’ to maintain its position.\n",
    "m.stop_command='hold'\n",
    "m.stop()"
   ]
  },
  {
   "cell_type": "code",
   "execution_count": 181,
   "metadata": {
    "collapsed": false
   },
   "outputs": [],
   "source": [
    "m.run_forever(duty_cycle_sp=100)\n",
    "time.sleep(0.5)\n",
    "\n",
    "#coast: power will be removed from the motor and it will freely coast to a stop;\n",
    "m.stop_command='coast'\n",
    "m.stop()"
   ]
  },
  {
   "cell_type": "markdown",
   "metadata": {},
   "source": [
    "- `count_per_m` returns the number of tacho counts in one meter of travel of the motor. Tacho counts are used by the position and speed attributes, so you can use this value to convert from distance to tacho counts. *(linear motors only)*"
   ]
  },
  {
   "cell_type": "code",
   "execution_count": 62,
   "metadata": {
    "collapsed": false
   },
   "outputs": [],
   "source": [
    "#Not used for rotation servos\n",
    "#m.count_per_m"
   ]
  },
  {
   "cell_type": "markdown",
   "metadata": {},
   "source": [
    "- `count_per_rot` returns the number of tacho counts in one rotation of the motor. Tacho counts are used by the position and speed attributes, so you can use this value to convert rotations or degrees to tacho counts. *(rotation motors only)*"
   ]
  },
  {
   "cell_type": "code",
   "execution_count": 63,
   "metadata": {
    "collapsed": false
   },
   "outputs": [
    {
     "data": {
      "text/plain": [
       "360"
      ]
     },
     "execution_count": 63,
     "metadata": {},
     "output_type": "execute_result"
    }
   ],
   "source": [
    "m.count_per_rot"
   ]
  },
  {
   "cell_type": "code",
   "execution_count": 134,
   "metadata": {
    "collapsed": false
   },
   "outputs": [
    {
     "name": "stdout",
     "output_type": "stream",
     "text": [
      "With 360 tacho counts per rotation, there are 1.0 tacho counts per degree.\n"
     ]
    }
   ],
   "source": [
    "#Counts per rotation\n",
    "cpr=m.count_per_rot\n",
    "\n",
    "#Tacho count per degree - divide the tacho count per rotation nu the number of degrees in one rotation (360)\n",
    "tc= cpr / 360\n",
    "\n",
    "print('With {cpr} tacho counts per rotation, there are {tc} tacho counts per degree.'.format(cpr=cpr, tc=tc))"
   ]
  },
  {
   "cell_type": "markdown",
   "metadata": {},
   "source": [
    "- `duty_cycle` returns the current duty cycle of a running motor. Units are percent. Values are `-100` to `100`."
   ]
  },
  {
   "cell_type": "code",
   "execution_count": 70,
   "metadata": {
    "collapsed": false
   },
   "outputs": [
    {
     "data": {
      "text/plain": [
       "0"
      ]
     },
     "execution_count": 70,
     "metadata": {},
     "output_type": "execute_result"
    }
   ],
   "source": [
    "m.duty_cycle"
   ]
  },
  {
   "cell_type": "code",
   "execution_count": 71,
   "metadata": {
    "collapsed": true
   },
   "outputs": [],
   "source": [
    "m.run_direct(duty_cycle_sp=25)"
   ]
  },
  {
   "cell_type": "code",
   "execution_count": 72,
   "metadata": {
    "collapsed": false
   },
   "outputs": [
    {
     "data": {
      "text/plain": [
       "25"
      ]
     },
     "execution_count": 72,
     "metadata": {},
     "output_type": "execute_result"
    }
   ],
   "source": [
    "m.duty_cycle"
   ]
  },
  {
   "cell_type": "code",
   "execution_count": 76,
   "metadata": {
    "collapsed": true
   },
   "outputs": [],
   "source": [
    "m.run_direct(duty_cycle_sp=-35)"
   ]
  },
  {
   "cell_type": "code",
   "execution_count": 77,
   "metadata": {
    "collapsed": false
   },
   "outputs": [
    {
     "data": {
      "text/plain": [
       "-35"
      ]
     },
     "execution_count": 77,
     "metadata": {},
     "output_type": "execute_result"
    }
   ],
   "source": [
    "m.duty_cycle"
   ]
  },
  {
   "cell_type": "code",
   "execution_count": null,
   "metadata": {
    "collapsed": true
   },
   "outputs": [],
   "source": [
    "m.stop()"
   ]
  },
  {
   "cell_type": "markdown",
   "metadata": {},
   "source": [
    "- `duty_cycle_sp`: writing sets the duty cycle setpoint. Reading returns the current value. Units are in percent. Valid values are `-100` to `100`. A negative value causes the motor to rotate in reverse."
   ]
  },
  {
   "cell_type": "code",
   "execution_count": 87,
   "metadata": {
    "collapsed": true
   },
   "outputs": [],
   "source": [
    "m.run_direct(duty_cycle_sp=25)"
   ]
  },
  {
   "cell_type": "code",
   "execution_count": 113,
   "metadata": {
    "collapsed": false
   },
   "outputs": [
    {
     "data": {
      "text/plain": [
       "45"
      ]
     },
     "execution_count": 113,
     "metadata": {},
     "output_type": "execute_result"
    }
   ],
   "source": [
    "m.duty_cycle_sp"
   ]
  },
  {
   "cell_type": "code",
   "execution_count": 89,
   "metadata": {
    "collapsed": true
   },
   "outputs": [],
   "source": [
    "m.duty_cycle_sp=-20"
   ]
  },
  {
   "cell_type": "code",
   "execution_count": 90,
   "metadata": {
    "collapsed": false
   },
   "outputs": [
    {
     "data": {
      "text/plain": [
       "-20"
      ]
     },
     "execution_count": 90,
     "metadata": {},
     "output_type": "execute_result"
    }
   ],
   "source": [
    "m.duty_cycle_sp"
   ]
  },
  {
   "cell_type": "code",
   "execution_count": 91,
   "metadata": {
    "collapsed": false
   },
   "outputs": [],
   "source": [
    "m.stop()"
   ]
  },
  {
   "cell_type": "markdown",
   "metadata": {},
   "source": [
    "- `full_travel_count` returns the number of tacho counts in the full travel of the motor. When combined with the count_per_m atribute, you can use this value to calculate the maximum travel distance of the motor. *(linear motors only)*"
   ]
  },
  {
   "cell_type": "code",
   "execution_count": null,
   "metadata": {
    "collapsed": true
   },
   "outputs": [],
   "source": [
    "#Not used for rotation servos\n",
    "#m.full_travel_count"
   ]
  },
  {
   "cell_type": "markdown",
   "metadata": {},
   "source": [
    "- `polarity` sets the polarity of the motor. With `normal` polarity, a positive duty cycle will cause the motor to rotate clockwise. With `inversed` polarity, a positive duty cycle will cause the motor to rotate counter-clockwise. Valid values are `normal` and `inversed`."
   ]
  },
  {
   "cell_type": "code",
   "execution_count": 117,
   "metadata": {
    "collapsed": false
   },
   "outputs": [
    {
     "data": {
      "text/plain": [
       "u'normal'"
      ]
     },
     "execution_count": 117,
     "metadata": {},
     "output_type": "execute_result"
    }
   ],
   "source": [
    "m.polarity"
   ]
  },
  {
   "cell_type": "code",
   "execution_count": 118,
   "metadata": {
    "collapsed": true
   },
   "outputs": [],
   "source": [
    "m.run_timed(time_sp=1000, duty_cycle_sp=50)"
   ]
  },
  {
   "cell_type": "code",
   "execution_count": 119,
   "metadata": {
    "collapsed": true
   },
   "outputs": [],
   "source": [
    "m.polarity='inversed'"
   ]
  },
  {
   "cell_type": "code",
   "execution_count": 120,
   "metadata": {
    "collapsed": true
   },
   "outputs": [],
   "source": [
    "m.run_timed(time_sp=1000, duty_cycle_sp=50)"
   ]
  },
  {
   "cell_type": "code",
   "execution_count": 121,
   "metadata": {
    "collapsed": true
   },
   "outputs": [],
   "source": [
    "m.polarity='normal'"
   ]
  },
  {
   "cell_type": "markdown",
   "metadata": {},
   "source": [
    "- `position` returns the current position of the motor in pulses of the rotary encoder. When the motor rotates clockwise, the position will increase. Likewise, rotating counter-clockwise causes the position to decrease. Writing will set the position to that value."
   ]
  },
  {
   "cell_type": "code",
   "execution_count": 124,
   "metadata": {
    "collapsed": false
   },
   "outputs": [
    {
     "data": {
      "text/plain": [
       "736"
      ]
     },
     "execution_count": 124,
     "metadata": {},
     "output_type": "execute_result"
    }
   ],
   "source": [
    "m.position"
   ]
  },
  {
   "cell_type": "markdown",
   "metadata": {},
   "source": [
    "Now turn the wheel by hand a short distance:"
   ]
  },
  {
   "cell_type": "code",
   "execution_count": 125,
   "metadata": {
    "collapsed": false
   },
   "outputs": [
    {
     "data": {
      "text/plain": [
       "630"
      ]
     },
     "execution_count": 125,
     "metadata": {},
     "output_type": "execute_result"
    }
   ],
   "source": [
    "#Check the position after turning the wheel by hand a short way\n",
    "m.position"
   ]
  },
  {
   "cell_type": "markdown",
   "metadata": {},
   "source": [
    "And turn it a short way back the other way:"
   ]
  },
  {
   "cell_type": "code",
   "execution_count": 126,
   "metadata": {
    "collapsed": false
   },
   "outputs": [
    {
     "data": {
      "text/plain": [
       "780"
      ]
     },
     "execution_count": 126,
     "metadata": {},
     "output_type": "execute_result"
    }
   ],
   "source": [
    "#Now turn the wheel by hand a short way in the other direction\n",
    "m.position"
   ]
  },
  {
   "cell_type": "markdown",
   "metadata": {},
   "source": [
    "- `position_sp`: writing specifies the target position for the `run_to_abs_pos` and `run_to_rel_pos` commands. Reading returns the current value. Units are in tacho counts. You can use the value returned by `counts_per_rot` to convert tacho counts to/from rotations or degrees."
   ]
  },
  {
   "cell_type": "code",
   "execution_count": 128,
   "metadata": {
    "collapsed": false
   },
   "outputs": [
    {
     "data": {
      "text/plain": [
       "321"
      ]
     },
     "execution_count": 128,
     "metadata": {},
     "output_type": "execute_result"
    }
   ],
   "source": [
    "m.position_sp"
   ]
  },
  {
   "cell_type": "code",
   "execution_count": 136,
   "metadata": {
    "collapsed": false
   },
   "outputs": [
    {
     "name": "stdout",
     "output_type": "stream",
     "text": [
      "With 360 tacho counts per rotation, each tacho count corresponds to 1.0 degrees.\n"
     ]
    }
   ],
   "source": [
    "#Counts per rotation\n",
    "cpr=m.count_per_rot\n",
    "#Degrees per tacho count - divide the number of degrees in one rotation (360) by the tacho count per rotation\n",
    "dpc = 360 / cpr\n",
    "\n",
    "print('With {cpr} tacho counts per rotation, each tacho count corresponds to {dpc} degrees.'.format(cpr=cpr, dpc=dpc))\n"
   ]
  },
  {
   "cell_type": "code",
   "execution_count": 137,
   "metadata": {
    "collapsed": false
   },
   "outputs": [
    {
     "name": "stdout",
     "output_type": "stream",
     "text": [
      "1.5 rotations corresponds to a tacho count of 540.0\n"
     ]
    }
   ],
   "source": [
    "#Number of tacho counts for a given number of rotations\n",
    "number_of_rotations = 1.5\n",
    "\n",
    "required_tacho_count = number_of_rotations * m.count_per_rot\n",
    "\n",
    "print('{n} rotations corresponds to a tacho count of {c}'.format(n=number_of_rotations, c=required_tacho_count))"
   ]
  },
  {
   "cell_type": "markdown",
   "metadata": {},
   "source": [
    "- `speed` returns the current motor speed in tacho counts per second. Note, this is not necessarily degrees (although it is for LEGO motors). Use the `count_per_rot` attribute to convert this value to RPM or deg/sec."
   ]
  },
  {
   "cell_type": "code",
   "execution_count": 114,
   "metadata": {
    "collapsed": false
   },
   "outputs": [
    {
     "data": {
      "text/plain": [
       "0"
      ]
     },
     "execution_count": 114,
     "metadata": {},
     "output_type": "execute_result"
    }
   ],
   "source": [
    "m.speed"
   ]
  },
  {
   "cell_type": "code",
   "execution_count": 202,
   "metadata": {
    "collapsed": true
   },
   "outputs": [],
   "source": [
    "m.run_forever(duty_cycle_sp=75)"
   ]
  },
  {
   "cell_type": "code",
   "execution_count": 199,
   "metadata": {
    "collapsed": false
   },
   "outputs": [
    {
     "data": {
      "text/plain": [
       "698"
      ]
     },
     "execution_count": 199,
     "metadata": {},
     "output_type": "execute_result"
    }
   ],
   "source": [
    "m.speed"
   ]
  },
  {
   "cell_type": "code",
   "execution_count": 200,
   "metadata": {
    "collapsed": true
   },
   "outputs": [],
   "source": [
    "m.stop()"
   ]
  },
  {
   "cell_type": "markdown",
   "metadata": {},
   "source": [
    "- `speed_sp`: writing sets the target speed in tacho counts per second used for all `run_*` commands except `run_direct`. Reading returns the current value. A negative value causes the motor to rotate in reverse with the exception of `run_to_*_pos` commands where the sign is ignored. Use the `count_per_rot` attribute to convert RPM or deg/sec to tacho counts per second. Use the `count_per_m` attribute to convert m/s to tacho counts per second."
   ]
  },
  {
   "cell_type": "code",
   "execution_count": 197,
   "metadata": {
    "collapsed": false
   },
   "outputs": [
    {
     "data": {
      "text/plain": [
       "0"
      ]
     },
     "execution_count": 197,
     "metadata": {},
     "output_type": "execute_result"
    }
   ],
   "source": [
    "m.speed_sp"
   ]
  },
  {
   "cell_type": "markdown",
   "metadata": {},
   "source": [
    "- `speed_regulation_enabled` enables PID speed regulation; legitimate values are `on` and `off` (`off` is the default)."
   ]
  },
  {
   "cell_type": "code",
   "execution_count": 222,
   "metadata": {
    "collapsed": false
   },
   "outputs": [
    {
     "data": {
      "text/plain": [
       "u'off'"
      ]
     },
     "execution_count": 222,
     "metadata": {},
     "output_type": "execute_result"
    }
   ],
   "source": [
    "m.reset()\n",
    "m.speed_regulation_enabled"
   ]
  },
  {
   "cell_type": "code",
   "execution_count": 223,
   "metadata": {
    "collapsed": true
   },
   "outputs": [],
   "source": [
    "m.run_forever(duty_cycle_sp=75)"
   ]
  },
  {
   "cell_type": "code",
   "execution_count": 226,
   "metadata": {
    "collapsed": true
   },
   "outputs": [],
   "source": [
    "m.stop()"
   ]
  },
  {
   "cell_type": "code",
   "execution_count": 225,
   "metadata": {
    "collapsed": true
   },
   "outputs": [],
   "source": [
    "#Setting the speed with speed_regulation_enabled='off' has no effect\n",
    "m.speed_sp=200\n",
    "m.run_forever(duty_cycle_sp=75)"
   ]
  },
  {
   "cell_type": "code",
   "execution_count": 229,
   "metadata": {
    "collapsed": true
   },
   "outputs": [],
   "source": [
    "m.stop()"
   ]
  },
  {
   "cell_type": "code",
   "execution_count": 227,
   "metadata": {
    "collapsed": true
   },
   "outputs": [],
   "source": [
    "#Switch speed regulation on\n",
    "m.speed_regulation_enabled='on'"
   ]
  },
  {
   "cell_type": "code",
   "execution_count": 228,
   "metadata": {
    "collapsed": true
   },
   "outputs": [],
   "source": [
    "#The duty cycle setting is ignored and the speed is controlled\n",
    "m.run_forever(duty_cycle_sp=75)"
   ]
  },
  {
   "cell_type": "code",
   "execution_count": 220,
   "metadata": {
    "collapsed": true
   },
   "outputs": [],
   "source": [
    "m.stop()"
   ]
  },
  {
   "cell_type": "code",
   "execution_count": null,
   "metadata": {
    "collapsed": true
   },
   "outputs": [],
   "source": [
    "m.speed_regulation_enabled='off'"
   ]
  },
  {
   "cell_type": "markdown",
   "metadata": {},
   "source": [
    "- `ramp_up_sp`: when `ramp_up_sp` and `ramp_down_sp` are set to non-zero values, the speed will ramp up from 0 to 100% duty cycle over the specified time period. If the duty cycle is limited by the `duty_cycle_sp` or speed regulation mode is on, then the ramp time will be less. For example if we have duty_cycle_sp set to 50 (and `speed_regulation_enabled` mode is off) and `ramp_up_sp` is 500ms, when we start the motor, it will ramp up from 0 to 50% duty cycle over the span of 250ms and then stay at 50% duty cycle until there is a stop command ([reference](https://github.com/ev3dev/ev3dev/issues/282)). Writing to `ramp_up_sp` sets the ramp up setpoint. Reading returns the current value. Units are in *milliseconds* and must be positive. When set to a non-zero value, the motor speed will increase from 0 to 100% of the maximum over the span of this setpoint. The actual ramp time is the ratio of the difference between the `speed_sp` and the current `speed` and *max_speed* multiplied by `ramp_up_sp`."
   ]
  },
  {
   "cell_type": "code",
   "execution_count": 24,
   "metadata": {
    "collapsed": false
   },
   "outputs": [
    {
     "data": {
      "text/plain": [
       "u'off'"
      ]
     },
     "execution_count": 24,
     "metadata": {},
     "output_type": "execute_result"
    }
   ],
   "source": [
    "#Speed regulation should be set to on:\n",
    "m.speed_regulation_enabled='on'"
   ]
  },
  {
   "cell_type": "code",
   "execution_count": 45,
   "metadata": {
    "collapsed": true
   },
   "outputs": [],
   "source": [
    "#Speed set point should be non_zero\n",
    "m.speed_sp=200"
   ]
  },
  {
   "cell_type": "code",
   "execution_count": 22,
   "metadata": {
    "collapsed": false
   },
   "outputs": [
    {
     "data": {
      "text/plain": [
       "0"
      ]
     },
     "execution_count": 22,
     "metadata": {},
     "output_type": "execute_result"
    }
   ],
   "source": [
    "m.ramp_up_sp"
   ]
  },
  {
   "cell_type": "code",
   "execution_count": 25,
   "metadata": {
    "collapsed": true
   },
   "outputs": [],
   "source": [
    "m.ramp_up_sp=1000"
   ]
  },
  {
   "cell_type": "code",
   "execution_count": 26,
   "metadata": {
    "collapsed": true
   },
   "outputs": [],
   "source": [
    "m.run_timed(time_sp=3000)"
   ]
  },
  {
   "cell_type": "code",
   "execution_count": 158,
   "metadata": {
    "collapsed": true
   },
   "outputs": [],
   "source": [
    "m.speed_regulation_enabled='off'"
   ]
  },
  {
   "cell_type": "markdown",
   "metadata": {},
   "source": [
    "- `ramp_down_sp`: writing sets the ramp down setpoint. Reading returns the current value. Units are in *milliseconds* and must be positive. When set to a non-zero value, the motor speed will decrease from 0 to 100% of *max_speed* over the span of this setpoint. The actual ramp time is the ratio of the difference between the `speed_sp` and the current speed and the maximum speed multiplied by `ramp_down_sp`."
   ]
  },
  {
   "cell_type": "code",
   "execution_count": 138,
   "metadata": {
    "collapsed": false
   },
   "outputs": [
    {
     "data": {
      "text/plain": [
       "0"
      ]
     },
     "execution_count": 138,
     "metadata": {},
     "output_type": "execute_result"
    }
   ],
   "source": [
    "m.ramp_down_sp"
   ]
  },
  {
   "cell_type": "markdown",
   "metadata": {},
   "source": [
    "- `speed_regulation_p`, the proportional constant for the speed regulation PID. *(used with `speed_regulation_enabled='on'`)*"
   ]
  },
  {
   "cell_type": "code",
   "execution_count": 163,
   "metadata": {
    "collapsed": false
   },
   "outputs": [
    {
     "data": {
      "text/plain": [
       "1000"
      ]
     },
     "execution_count": 163,
     "metadata": {},
     "output_type": "execute_result"
    }
   ],
   "source": [
    "m.speed_regulation_p"
   ]
  },
  {
   "cell_type": "markdown",
   "metadata": {},
   "source": [
    "- `speed_regulation_i`, the integral constant for the speed regulation PID. *(used with `speed_regulation_enabled='on'`)*"
   ]
  },
  {
   "cell_type": "code",
   "execution_count": 160,
   "metadata": {
    "collapsed": false
   },
   "outputs": [
    {
     "data": {
      "text/plain": [
       "60"
      ]
     },
     "execution_count": 160,
     "metadata": {},
     "output_type": "execute_result"
    }
   ],
   "source": [
    "m.speed_regulation_i"
   ]
  },
  {
   "cell_type": "markdown",
   "metadata": {},
   "source": [
    "- `speed_regulation_d`, the derivative constant for the speed regulation PID. *(used with `speed_regulation_enabled='on'`)*"
   ]
  },
  {
   "cell_type": "code",
   "execution_count": 161,
   "metadata": {
    "collapsed": false
   },
   "outputs": [
    {
     "data": {
      "text/plain": [
       "0"
      ]
     },
     "execution_count": 161,
     "metadata": {},
     "output_type": "execute_result"
    }
   ],
   "source": [
    "m.speed_regulation_d"
   ]
  },
  {
   "cell_type": "markdown",
   "metadata": {},
   "source": [
    "### Medium Motor\n",
    "\n",
    "The medium servo motor inherits the same methods from the `Motor` class as the `LargeMotor`."
   ]
  },
  {
   "cell_type": "code",
   "execution_count": null,
   "metadata": {
    "collapsed": true
   },
   "outputs": [],
   "source": [
    "# Define a medium servo motor on output D\n",
    "mm = ev3.MediumMotor(OUTPUT_D)"
   ]
  },
  {
   "cell_type": "markdown",
   "metadata": {},
   "source": [
    "The commands and parameters are the same as for the *LargeMotor*."
   ]
  },
  {
   "cell_type": "markdown",
   "metadata": {},
   "source": [
    "## Brick Outputs\n",
    "\n",
    "The EV3 brick has several output devices of its own that we can access, including several LEDs and a speaker."
   ]
  },
  {
   "cell_type": "markdown",
   "metadata": {},
   "source": [
    "### Leds\n",
    "\n",
    "There are two LEDs on either side of the EV3 button, a red one and a green one, that can be controlled as a group (left group or right group). Enabling both LEDs in a group gives yellow and range colours, as well as the individual red and green."
   ]
  },
  {
   "cell_type": "code",
   "execution_count": 122,
   "metadata": {
    "collapsed": true
   },
   "outputs": [],
   "source": [
    "L=Leds"
   ]
  },
  {
   "cell_type": "markdown",
   "metadata": {},
   "source": [
    "- `all_off`: turn all LEDs off"
   ]
  },
  {
   "cell_type": "code",
   "execution_count": 68,
   "metadata": {
    "collapsed": false
   },
   "outputs": [],
   "source": [
    "L.all_off()"
   ]
  },
  {
   "cell_type": "markdown",
   "metadata": {},
   "source": [
    "- `set_color`: used to set the colour of the left or right group. Usage: `.set_color(group, color, pct=1)`"
   ]
  },
  {
   "cell_type": "code",
   "execution_count": 65,
   "metadata": {
    "collapsed": false
   },
   "outputs": [],
   "source": [
    "L.set_color(L.LEFT, L.RED)\n",
    "time.sleep(1)\n",
    "L.set_color(L.RIGHT,L.YELLOW)\n",
    "time.sleep(1)\n",
    "L.set_color(L.LEFT,L.GREEN)\n",
    "time.sleep(1)\n",
    "L.set_color(L.RIGHT,L.AMBER)\n",
    "time.sleep(1)\n",
    "L.set_color(L.LEFT,L.ORANGE)\n",
    "time.sleep(1)\n",
    "L.set_color(L.RIGHT,L.YELLOW)\n",
    "\n",
    "L.all_off()"
   ]
  },
  {
   "cell_type": "markdown",
   "metadata": {},
   "source": [
    "- `set`: sets brightness of leds in the given group to the values specified in color tuple. When percentage is specified, brightness of each LED is reduced proportionally. `set` can also be used to trigger an LED to flash according to a timer. Usage: `.set(Leds.LEFT, brightness_pct=0.5, trigger='timer')`"
   ]
  },
  {
   "cell_type": "code",
   "execution_count": 66,
   "metadata": {
    "collapsed": true
   },
   "outputs": [],
   "source": [
    "L.set(L.LEFT, brightness_pct=0.5, trigger='timer')"
   ]
  },
  {
   "cell_type": "code",
   "execution_count": 54,
   "metadata": {
    "collapsed": true
   },
   "outputs": [],
   "source": [
    "L.all_off()"
   ]
  },
  {
   "cell_type": "markdown",
   "metadata": {},
   "source": [
    "### Led\n",
    "\n",
    "The properties of each of the LEDs can be specified spearately. The LEDs are referenced from `L=Leds` as:\n",
    "\n",
    "- `L.green_left`\n",
    "- `L.green_right`\n",
    "\n",
    "- `L.red_left`\n",
    "- `L.red_right`"
   ]
  },
  {
   "cell_type": "markdown",
   "metadata": {},
   "source": [
    "- `max_brightness`: returns the maximum allowable brightness value for an LED"
   ]
  },
  {
   "cell_type": "code",
   "execution_count": 67,
   "metadata": {
    "collapsed": false
   },
   "outputs": [
    {
     "data": {
      "text/plain": [
       "255"
      ]
     },
     "execution_count": 67,
     "metadata": {},
     "output_type": "execute_result"
    }
   ],
   "source": [
    "L.green_left.max_brightness"
   ]
  },
  {
   "cell_type": "markdown",
   "metadata": {},
   "source": [
    "- `brightness`: sets the brightness level. Possible values are from `0` to `max_brightness`."
   ]
  },
  {
   "cell_type": "code",
   "execution_count": 84,
   "metadata": {
    "collapsed": false
   },
   "outputs": [],
   "source": [
    "L.set_color(L.LEFT,L.RED)\n",
    "\n",
    "L.red_left.brightness = L.red_left.max_brightness\n",
    "time.sleep(3)\n",
    "\n",
    "L.red_left.brightness = int(L.red_left.max_brightness / 2)\n",
    "time.sleep(3)\n",
    "\n",
    "L.red_left.brightness = 10\n",
    "time.sleep(3)\n",
    "\n",
    "L.all_off()"
   ]
  },
  {
   "cell_type": "markdown",
   "metadata": {},
   "source": [
    "- `brightness_pct`: returns led brightness as a fraction of `max_brightness` in the range `0` to `1`. __NEED TO CHECK WHETHER WE CAN DO THIS DYNAMICALLY OR WHETHER WE NEED TO SET_COLOR__\n"
   ]
  },
  {
   "cell_type": "code",
   "execution_count": 92,
   "metadata": {
    "collapsed": true
   },
   "outputs": [],
   "source": [
    "L.set_color(L.RIGHT,L.GREEN)\n",
    "\n",
    "L.green_right.brightness_pct = 1\n",
    "time.sleep(3)\n",
    "\n",
    "L.green_right.brightness_pct = 0.5\n",
    "time.sleep(3)\n",
    "\n",
    "L.green_right.brightness_pct = 0.01\n",
    "time.sleep(3)\n",
    "\n",
    "L.green_right.brightness_pct = 1\n",
    "L.all_off()"
   ]
  },
  {
   "cell_type": "markdown",
   "metadata": {},
   "source": [
    "- `triggers`: show the triggers associated with the LEDs. A trigger is a kernel based source of LED events. Triggers can either be simple or complex. A simple trigger isn’t configurable and is designed to slot into existing subsystems with minimal additional code. Examples are the `heartbeat` and `timer` triggers. Complex triggers, whilst available to all LEDs, have LED specific parameters and work on a per LED basis as with the `timer` trigger."
   ]
  },
  {
   "cell_type": "code",
   "execution_count": 90,
   "metadata": {
    "collapsed": false
   },
   "outputs": [
    {
     "data": {
      "text/plain": [
       "[u'none',\n",
       " u'mmc0',\n",
       " u'timer',\n",
       " u'heartbeat',\n",
       " u'default-on',\n",
       " u'transient',\n",
       " u'legoev3-battery-charging-or-full',\n",
       " u'legoev3-battery-charging',\n",
       " u'legoev3-battery-full',\n",
       " u'legoev3-battery-charging-blink-full-solid',\n",
       " u'rfkill0']"
      ]
     },
     "execution_count": 90,
     "metadata": {},
     "output_type": "execute_result"
    }
   ],
   "source": [
    "L.green_right.triggers"
   ]
  },
  {
   "cell_type": "markdown",
   "metadata": {},
   "source": [
    "- `trigger`: sets the led trigger.  The `timer` trigger will periodically change the LED brightness between 0 and the current brightness setting. The on and off time can be specified via `delay_{on,off}` attributes in *milliseconds*. You can change the brightness value of a LED independently of the timer trigger. However, if you set the brightness value to 0 it will also disable the timer trigger. *[TH: I didn't have much success with the `delay_{on,off}` settings?]*"
   ]
  },
  {
   "cell_type": "code",
   "execution_count": 97,
   "metadata": {
    "collapsed": true
   },
   "outputs": [],
   "source": [
    "#Use the left LED as a heartbeat\n",
    "L.set(L.LEFT, brightness_pct=0.5, trigger='heartbeat')"
   ]
  },
  {
   "cell_type": "code",
   "execution_count": null,
   "metadata": {
    "collapsed": true
   },
   "outputs": [],
   "source": [
    "#Add in a heartbeat to the right\n",
    "L.set(L.RIGHT, brightness_pct=0.5, trigger='heartbeat')"
   ]
  },
  {
   "cell_type": "code",
   "execution_count": 140,
   "metadata": {
    "collapsed": true
   },
   "outputs": [],
   "source": [
    "L.all_off()"
   ]
  },
  {
   "cell_type": "code",
   "execution_count": 142,
   "metadata": {
    "collapsed": false
   },
   "outputs": [],
   "source": [
    "L.green_right.brightness_pct = 0.01\n",
    "L.red_right.brightness_pct = 1\n",
    "\n",
    "L.set(L.RIGHT, brightness_pct=0.5, trigger='timer')"
   ]
  },
  {
   "cell_type": "code",
   "execution_count": 145,
   "metadata": {
    "collapsed": true
   },
   "outputs": [],
   "source": [
    "#Do some housekeeping\n",
    "L.all_off()\n",
    "for l in [L.green_right,L.red_right,L.green_left,L.red_left]:\n",
    "    l.trigger='none'\n",
    "    l.brightness_pct=1"
   ]
  },
  {
   "cell_type": "markdown",
   "metadata": {},
   "source": [
    "### Sound\n",
    "\n",
    "The EV3 can play sound files and generate sounds of its own, as well as generating speech from text."
   ]
  },
  {
   "cell_type": "markdown",
   "metadata": {},
   "source": [
    "- `beep()`: call beep command with the provided arguments (if any). See `beep` man page or do a web search for *linux beep music* for inspiration."
   ]
  },
  {
   "cell_type": "markdown",
   "metadata": {},
   "source": [
    "- `play(wav_file)` to play a *.wav* file."
   ]
  },
  {
   "cell_type": "markdown",
   "metadata": {},
   "source": [
    "- `speak(text)`: speak the given text aloud."
   ]
  },
  {
   "cell_type": "code",
   "execution_count": 148,
   "metadata": {
    "collapsed": false
   },
   "outputs": [],
   "source": [
    "Sound.speak('Welcome to the O U !').wait()\n",
    "pass"
   ]
  },
  {
   "cell_type": "markdown",
   "metadata": {},
   "source": [
    "- `tone(frequency, duration)`: play single tone of given frequency (*Hz*) and duration (*milliseconds*)."
   ]
  },
  {
   "cell_type": "code",
   "execution_count": 164,
   "metadata": {
    "collapsed": false
   },
   "outputs": [],
   "source": [
    "Sound.tone(392,350).wait()\n",
    "pass"
   ]
  },
  {
   "cell_type": "markdown",
   "metadata": {},
   "source": [
    "- `tone(tone_sequence)`: play a tone sequence. The tone_sequence parameter is a list of tuples, where each tuple contains up to three numbers. The first number is *frequency* in *Hz*, the second is *duration* in *milliseconds*, and the third is *delay* in *milliseconds* between this and the next tone in the sequence."
   ]
  },
  {
   "cell_type": "code",
   "execution_count": 162,
   "metadata": {
    "collapsed": false
   },
   "outputs": [],
   "source": [
    "Sound.tone([\n",
    "    (392, 350, 100), (392, 350, 100), (392, 350, 100), (311.1, 250, 100),\n",
    "    (466.2, 25, 100), (392, 350, 100), (311.1, 250, 100), (466.2, 25, 100),\n",
    "    (392, 700, 100)\n",
    "    ]).wait()\n",
    "pass"
   ]
  },
  {
   "cell_type": "markdown",
   "metadata": {},
   "source": [
    "## Sensors\n",
    "\n",
    "This section describes how to use the various sensors:\n",
    "\n",
    "- touch sensor\n",
    "- colour sensor\n",
    "- gyro sensor\n",
    "- ultrasonic sensor\n",
    "- infra-red sensor\n",
    "\n",
    "The *infra-red sensor* is used in conjunction with the remote control, which is also described in this section. \n",
    "\n",
    "If we only connect one sensor of each sensor type to the ev3, we *do not* need to declare which port the sensor was connected to - the brick can work it out for itself.\n",
    "\n",
    "Sensors may be attached to INPUT_1, INPUT_2, INPUT_3 or INPUT_4."
   ]
  },
  {
   "cell_type": "code",
   "execution_count": 10,
   "metadata": {
    "collapsed": false
   },
   "outputs": [
    {
     "name": "stdout",
     "output_type": "stream",
     "text": [
      "('in1', 'in2', 'in3', 'in4')\n"
     ]
    }
   ],
   "source": [
    "print(INPUT_1, INPUT_2, INPUT_3, INPUT_4)"
   ]
  },
  {
   "cell_type": "markdown",
   "metadata": {},
   "source": [
    "The base clase doesn't have much to show of interest."
   ]
  },
  {
   "cell_type": "code",
   "execution_count": 248,
   "metadata": {
    "collapsed": true
   },
   "outputs": [],
   "source": [
    "S=Sensor()"
   ]
  },
  {
   "cell_type": "code",
   "execution_count": null,
   "metadata": {
    "collapsed": true
   },
   "outputs": [],
   "source": [
    "#Use tab completion to see the generic methods associated with the base Sensor() class\n",
    "#Enter S. followed by TAB\n",
    "S."
   ]
  },
  {
   "cell_type": "markdown",
   "metadata": {},
   "source": [
    "### Touch Sensor\n",
    "The touch sensor is a simple switch returning one of two possible integer values:\n",
    "\n",
    "- `0` to show the switch is *open* (that is, *it is not being pressed*)\n",
    "- `1` to show the switch is *closed* (that is, *it is being pressed*)\n"
   ]
  },
  {
   "cell_type": "code",
   "execution_count": 11,
   "metadata": {
    "collapsed": false
   },
   "outputs": [],
   "source": [
    "ts=TouchSensor()"
   ]
  },
  {
   "cell_type": "markdown",
   "metadata": {},
   "source": [
    "- `connected`: test whether a sensor of this type is connected"
   ]
  },
  {
   "cell_type": "code",
   "execution_count": 187,
   "metadata": {
    "collapsed": false
   },
   "outputs": [
    {
     "data": {
      "text/plain": [
       "True"
      ]
     },
     "execution_count": 187,
     "metadata": {},
     "output_type": "execute_result"
    }
   ],
   "source": [
    "ts.connected"
   ]
  },
  {
   "cell_type": "markdown",
   "metadata": {},
   "source": [
    "- `address`: identify which input port the sensor is connected to"
   ]
  },
  {
   "cell_type": "code",
   "execution_count": 188,
   "metadata": {
    "collapsed": false
   },
   "outputs": [
    {
     "data": {
      "text/plain": [
       "u'in1'"
      ]
     },
     "execution_count": 188,
     "metadata": {},
     "output_type": "execute_result"
    }
   ],
   "source": [
    "ts.address"
   ]
  },
  {
   "cell_type": "markdown",
   "metadata": {},
   "source": [
    "- `driver_name`: identify which software driver is used to interact with the sensor"
   ]
  },
  {
   "cell_type": "code",
   "execution_count": 12,
   "metadata": {
    "collapsed": false
   },
   "outputs": [
    {
     "data": {
      "text/plain": [
       "u'lego-ev3-touch'"
      ]
     },
     "execution_count": 12,
     "metadata": {},
     "output_type": "execute_result"
    }
   ],
   "source": [
    "ts.driver_name"
   ]
  },
  {
   "cell_type": "markdown",
   "metadata": {},
   "source": [
    "- `value()`: show the current value of the switch, as a binary *integer*, indicating whether the current touch sensor is being pressed or not: `0` for open, `1` for pressed."
   ]
  },
  {
   "cell_type": "code",
   "execution_count": 181,
   "metadata": {
    "collapsed": false
   },
   "outputs": [
    {
     "data": {
      "text/plain": [
       "0"
      ]
     },
     "execution_count": 181,
     "metadata": {},
     "output_type": "execute_result"
    }
   ],
   "source": [
    "#Without touching the switch, check its current value\n",
    "ts.value()"
   ]
  },
  {
   "cell_type": "code",
   "execution_count": 182,
   "metadata": {
    "collapsed": false
   },
   "outputs": [
    {
     "data": {
      "text/plain": [
       "1"
      ]
     },
     "execution_count": 182,
     "metadata": {},
     "output_type": "execute_result"
    }
   ],
   "source": [
    "#Now hold the touch sensor closed and try again\n",
    "ts.value()"
   ]
  },
  {
   "cell_type": "markdown",
   "metadata": {},
   "source": [
    "### Colour Sensor\n"
   ]
  },
  {
   "cell_type": "markdown",
   "metadata": {},
   "source": [
    "- `ambient_light_intensity()`: ambient light intensity. Light on sensor is *dimly lit blue*."
   ]
  },
  {
   "cell_type": "markdown",
   "metadata": {},
   "source": [
    "- `blue()`: blue component of the detected color, in the range 0-1020."
   ]
  },
  {
   "cell_type": "markdown",
   "metadata": {},
   "source": [
    "- `connected`: test whether a sensor of this type is connected"
   ]
  },
  {
   "cell_type": "code",
   "execution_count": 192,
   "metadata": {
    "collapsed": true
   },
   "outputs": [],
   "source": [
    "cs=ColorSensor()"
   ]
  },
  {
   "cell_type": "code",
   "execution_count": 236,
   "metadata": {
    "collapsed": false
   },
   "outputs": [
    {
     "data": {
      "text/plain": [
       "[u'COL-REFLECT',\n",
       " u'COL-AMBIENT',\n",
       " u'COL-COLOR',\n",
       " u'REF-RAW',\n",
       " u'RGB-RAW',\n",
       " u'COL-CAL']"
      ]
     },
     "execution_count": 236,
     "metadata": {},
     "output_type": "execute_result"
    }
   ],
   "source": [
    "cs.modes"
   ]
  },
  {
   "cell_type": "code",
   "execution_count": 240,
   "metadata": {
    "collapsed": false
   },
   "outputs": [],
   "source": [
    "cs.mode='RGB-RAW'"
   ]
  },
  {
   "cell_type": "code",
   "execution_count": 237,
   "metadata": {
    "collapsed": false
   },
   "outputs": [
    {
     "data": {
      "text/plain": [
       "u'COL-REFLECT'"
      ]
     },
     "execution_count": 237,
     "metadata": {},
     "output_type": "execute_result"
    }
   ],
   "source": [
    "cs.mode"
   ]
  },
  {
   "cell_type": "code",
   "execution_count": 252,
   "metadata": {
    "collapsed": false
   },
   "outputs": [
    {
     "name": "stdout",
     "output_type": "stream",
     "text": [
      "(20, 1, 2)\n"
     ]
    }
   ],
   "source": [
    "print(cs.value(0),cs.value(1),cs.value(2))"
   ]
  },
  {
   "cell_type": "code",
   "execution_count": 246,
   "metadata": {
    "collapsed": false
   },
   "outputs": [
    {
     "data": {
      "text/plain": [
       "3"
      ]
     },
     "execution_count": 246,
     "metadata": {},
     "output_type": "execute_result"
    }
   ],
   "source": [
    "cs.num_values"
   ]
  },
  {
   "cell_type": "code",
   "execution_count": null,
   "metadata": {
    "collapsed": true
   },
   "outputs": [],
   "source": [
    "cs."
   ]
  },
  {
   "cell_type": "code",
   "execution_count": 193,
   "metadata": {
    "collapsed": false
   },
   "outputs": [
    {
     "data": {
      "text/plain": [
       "True"
      ]
     },
     "execution_count": 193,
     "metadata": {},
     "output_type": "execute_result"
    }
   ],
   "source": [
    "cs.connected"
   ]
  },
  {
   "cell_type": "markdown",
   "metadata": {},
   "source": [
    "- `address`: identify which input port the sensor is connected to"
   ]
  },
  {
   "cell_type": "code",
   "execution_count": 194,
   "metadata": {
    "collapsed": false
   },
   "outputs": [
    {
     "data": {
      "text/plain": [
       "u'in4'"
      ]
     },
     "execution_count": 194,
     "metadata": {},
     "output_type": "execute_result"
    }
   ],
   "source": [
    "cs.address"
   ]
  },
  {
   "cell_type": "markdown",
   "metadata": {},
   "source": [
    "- `driver_name`: identify which software driver is used to interact with the sensor"
   ]
  },
  {
   "cell_type": "code",
   "execution_count": 195,
   "metadata": {
    "collapsed": false
   },
   "outputs": [
    {
     "data": {
      "text/plain": [
       "u'lego-ev3-color'"
      ]
     },
     "execution_count": 195,
     "metadata": {},
     "output_type": "execute_result"
    }
   ],
   "source": [
    "cs.driver_name"
   ]
  },
  {
   "cell_type": "markdown",
   "metadata": {},
   "source": [
    "- `modes`: display the available modes the sensor can take"
   ]
  },
  {
   "cell_type": "markdown",
   "metadata": {},
   "source": [
    "- `mode`: show/set the current sensor mode"
   ]
  },
  {
   "cell_type": "markdown",
   "metadata": {},
   "source": [
    "- `color()`: color detected by the sensor, categorized by overall value. (This method didn't exist for me. However, with the mode set to 'COL-COLOR', the `.value()` *is* in this range andd seems to map to appropriate corresponding color values.\n",
    "  - `0`: *No color*\n",
    "  - `1`: *Black*\n",
    "  - `2`: *Blue*\n",
    "  - `3`: *Green*\n",
    "  - `4`: *Yellow*\n",
    "  - `5`: *Red*\n",
    "  - `6`: *White*\n",
    "  - `7`: *Brown*"
   ]
  },
  {
   "cell_type": "markdown",
   "metadata": {},
   "source": [
    "- `green()`: green component of the detected color, in the range 0-1020."
   ]
  },
  {
   "cell_type": "markdown",
   "metadata": {},
   "source": [
    "- `red()`: red component of the detected color, in the range 0-1020."
   ]
  },
  {
   "cell_type": "markdown",
   "metadata": {},
   "source": [
    "- `reflected_light_intensity()`: reflected light intensity as a percentage. Light on sensor is *red*."
   ]
  },
  {
   "cell_type": "markdown",
   "metadata": {},
   "source": [
    "### Gyro Sensor"
   ]
  },
  {
   "cell_type": "markdown",
   "metadata": {
    "collapsed": true
   },
   "source": [
    "The gyro sensor can be used to allow the robot to go in a particular direction."
   ]
  },
  {
   "cell_type": "code",
   "execution_count": 200,
   "metadata": {
    "collapsed": true
   },
   "outputs": [],
   "source": [
    "gs=GyroSensor()"
   ]
  },
  {
   "cell_type": "markdown",
   "metadata": {},
   "source": [
    "- `connected`: test whether a sensor of this type is connected"
   ]
  },
  {
   "cell_type": "code",
   "execution_count": 201,
   "metadata": {
    "collapsed": false
   },
   "outputs": [
    {
     "data": {
      "text/plain": [
       "True"
      ]
     },
     "execution_count": 201,
     "metadata": {},
     "output_type": "execute_result"
    }
   ],
   "source": [
    "gs.connected"
   ]
  },
  {
   "cell_type": "markdown",
   "metadata": {},
   "source": [
    "- `address`: identify which input port the sensor is connected to"
   ]
  },
  {
   "cell_type": "code",
   "execution_count": 202,
   "metadata": {
    "collapsed": false
   },
   "outputs": [
    {
     "data": {
      "text/plain": [
       "u'in1'"
      ]
     },
     "execution_count": 202,
     "metadata": {},
     "output_type": "execute_result"
    }
   ],
   "source": [
    "gs.address"
   ]
  },
  {
   "cell_type": "markdown",
   "metadata": {},
   "source": [
    "- `driver_name`: identify which software driver is used to interact with the sensor"
   ]
  },
  {
   "cell_type": "code",
   "execution_count": 203,
   "metadata": {
    "collapsed": false
   },
   "outputs": [
    {
     "data": {
      "text/plain": [
       "u'lego-ev3-gyro'"
      ]
     },
     "execution_count": 203,
     "metadata": {},
     "output_type": "execute_result"
    }
   ],
   "source": [
    "gs.driver_name"
   ]
  },
  {
   "cell_type": "code",
   "execution_count": 205,
   "metadata": {
    "collapsed": false,
    "scrolled": true
   },
   "outputs": [
    {
     "ename": "AttributeError",
     "evalue": "'GyroSensor' object has no attribute 'angle'",
     "output_type": "error",
     "traceback": [
      "\u001b[0;31m---------------------------------------------------------------------------\u001b[0m\n\u001b[0;31mAttributeError\u001b[0m                            Traceback (most recent call last)",
      "\u001b[0;32m<ipython-input-205-374e93a77c6f>\u001b[0m in \u001b[0;36m<module>\u001b[0;34m()\u001b[0m\n\u001b[0;32m----> 1\u001b[0;31m \u001b[0mgs\u001b[0m\u001b[0;34m.\u001b[0m\u001b[0mangle\u001b[0m\u001b[0;34m\u001b[0m\u001b[0m\n\u001b[0m",
      "\u001b[0;31mAttributeError\u001b[0m: 'GyroSensor' object has no attribute 'angle'"
     ]
    }
   ],
   "source": [
    "gs."
   ]
  },
  {
   "cell_type": "code",
   "execution_count": 209,
   "metadata": {
    "collapsed": false
   },
   "outputs": [
    {
     "data": {
      "text/plain": [
       "u'deg'"
      ]
     },
     "execution_count": 209,
     "metadata": {},
     "output_type": "execute_result"
    }
   ],
   "source": [
    "gs.units"
   ]
  },
  {
   "cell_type": "code",
   "execution_count": 210,
   "metadata": {
    "collapsed": false
   },
   "outputs": [
    {
     "data": {
      "text/plain": [
       "[u'GYRO-ANG',\n",
       " u'GYRO-RATE',\n",
       " u'GYRO-FAS',\n",
       " u'GYRO-G&A',\n",
       " u'GYRO-CAL',\n",
       " u'TILT-RATE',\n",
       " u'TILT-ANG']"
      ]
     },
     "execution_count": 210,
     "metadata": {},
     "output_type": "execute_result"
    }
   ],
   "source": [
    "gs.modes"
   ]
  },
  {
   "cell_type": "code",
   "execution_count": 211,
   "metadata": {
    "collapsed": false
   },
   "outputs": [
    {
     "data": {
      "text/plain": [
       "u'GYRO-ANG'"
      ]
     },
     "execution_count": 211,
     "metadata": {},
     "output_type": "execute_result"
    }
   ],
   "source": [
    "gs.mode"
   ]
  },
  {
   "cell_type": "code",
   "execution_count": 218,
   "metadata": {
    "collapsed": true
   },
   "outputs": [],
   "source": [
    "gs.mode='GYRO-RATE'"
   ]
  },
  {
   "cell_type": "code",
   "execution_count": 217,
   "metadata": {
    "collapsed": false
   },
   "outputs": [
    {
     "data": {
      "text/plain": [
       "8"
      ]
     },
     "execution_count": 217,
     "metadata": {},
     "output_type": "execute_result"
    }
   ],
   "source": [
    "gs.value()"
   ]
  },
  {
   "cell_type": "markdown",
   "metadata": {},
   "source": [
    "### Ultrasonic Sensor\n",
    "\n",
    "\n",
    "Some of the sensor specific functions described in the docs do not appear to be available?\n",
    "\n",
    "If there are several sensors in the same room, I suspect that they may interfere with each other?"
   ]
  },
  {
   "cell_type": "code",
   "execution_count": 53,
   "metadata": {
    "collapsed": true
   },
   "outputs": [],
   "source": [
    "us=UltrasonicSensor()"
   ]
  },
  {
   "cell_type": "markdown",
   "metadata": {},
   "source": [
    "- `connected`: test whether a sensor of this type is connected"
   ]
  },
  {
   "cell_type": "code",
   "execution_count": 54,
   "metadata": {
    "collapsed": false
   },
   "outputs": [
    {
     "data": {
      "text/plain": [
       "True"
      ]
     },
     "execution_count": 54,
     "metadata": {},
     "output_type": "execute_result"
    }
   ],
   "source": [
    "us.connected"
   ]
  },
  {
   "cell_type": "markdown",
   "metadata": {},
   "source": [
    "- `address`: identify which input port the sensor is connected to"
   ]
  },
  {
   "cell_type": "code",
   "execution_count": 198,
   "metadata": {
    "collapsed": false
   },
   "outputs": [
    {
     "data": {
      "text/plain": [
       "u'in2'"
      ]
     },
     "execution_count": 198,
     "metadata": {},
     "output_type": "execute_result"
    }
   ],
   "source": [
    "us.address"
   ]
  },
  {
   "cell_type": "markdown",
   "metadata": {},
   "source": [
    "- `driver_name`: identify which software driver is used to interact with the sensor"
   ]
  },
  {
   "cell_type": "code",
   "execution_count": 199,
   "metadata": {
    "collapsed": false
   },
   "outputs": [
    {
     "data": {
      "text/plain": [
       "u'lego-ev3-us'"
      ]
     },
     "execution_count": 199,
     "metadata": {},
     "output_type": "execute_result"
    }
   ],
   "source": [
    "us.driver_name"
   ]
  },
  {
   "cell_type": "code",
   "execution_count": 55,
   "metadata": {
    "collapsed": false
   },
   "outputs": [
    {
     "data": {
      "text/plain": [
       "2550"
      ]
     },
     "execution_count": 55,
     "metadata": {},
     "output_type": "execute_result"
    }
   ],
   "source": [
    "us.value()"
   ]
  },
  {
   "cell_type": "code",
   "execution_count": 56,
   "metadata": {
    "collapsed": false
   },
   "outputs": [
    {
     "data": {
      "text/plain": [
       "u'cm'"
      ]
     },
     "execution_count": 56,
     "metadata": {},
     "output_type": "execute_result"
    }
   ],
   "source": [
    "us.units"
   ]
  },
  {
   "cell_type": "markdown",
   "metadata": {},
   "source": [
    "*The value/units combination looks wrong to me?*"
   ]
  },
  {
   "cell_type": "markdown",
   "metadata": {},
   "source": [
    "### Infra-Red Sensor"
   ]
  },
  {
   "cell_type": "markdown",
   "metadata": {},
   "source": [
    "- `proximity()`: a measurement of the distance between the sensor and the remote, as a percentage. 100% is approximately 70cm/27in."
   ]
  },
  {
   "cell_type": "code",
   "execution_count": 231,
   "metadata": {
    "collapsed": false
   },
   "outputs": [],
   "source": [
    "ir=InfraredSensor()"
   ]
  },
  {
   "cell_type": "markdown",
   "metadata": {},
   "source": [
    "- `connected`: test whether a sensor of this type is connected"
   ]
  },
  {
   "cell_type": "code",
   "execution_count": 232,
   "metadata": {
    "collapsed": false
   },
   "outputs": [
    {
     "data": {
      "text/plain": [
       "True"
      ]
     },
     "execution_count": 232,
     "metadata": {},
     "output_type": "execute_result"
    }
   ],
   "source": [
    "ir.connected"
   ]
  },
  {
   "cell_type": "markdown",
   "metadata": {},
   "source": [
    "- `address`: identify which input port the sensor is connected to"
   ]
  },
  {
   "cell_type": "code",
   "execution_count": 233,
   "metadata": {
    "collapsed": false
   },
   "outputs": [
    {
     "data": {
      "text/plain": [
       "u'in3'"
      ]
     },
     "execution_count": 233,
     "metadata": {},
     "output_type": "execute_result"
    }
   ],
   "source": [
    "ir.address"
   ]
  },
  {
   "cell_type": "markdown",
   "metadata": {},
   "source": [
    "- `driver_name`: identify which software driver is used to interact with the sensor"
   ]
  },
  {
   "cell_type": "markdown",
   "metadata": {
    "collapsed": false
   },
   "source": [
    "ir.driver_name"
   ]
  },
  {
   "cell_type": "markdown",
   "metadata": {},
   "source": [
    "- `modes`: display the modes available for this sensor."
   ]
  },
  {
   "cell_type": "code",
   "execution_count": null,
   "metadata": {
    "collapsed": true
   },
   "outputs": [],
   "source": [
    "ir.modes"
   ]
  },
  {
   "cell_type": "markdown",
   "metadata": {},
   "source": [
    "- `mode`: set the mode for the infra-red sensor - `IR-PROX` | `IR-SEEK` | `IR-REMOTE` | `IR-REM-A` | `IR-S-ALT` | `R-CAL` ([reference](http://www.ev3dev.org/docs/sensors/lego-ev3-infrared-sensor/#fn:remote-mode-values))."
   ]
  },
  {
   "cell_type": "code",
   "execution_count": null,
   "metadata": {
    "collapsed": true
   },
   "outputs": [],
   "source": [
    "ir.mode='IR-PROX'"
   ]
  },
  {
   "cell_type": "markdown",
   "metadata": {},
   "source": [
    "  - `mode='IR-PROX'`: in the *proximity mode*, the infra-red sensor returns a value corresponding to distance (range *0 to 100*, where *100%* is approximately *70cm/27in*)."
   ]
  },
  {
   "cell_type": "code",
   "execution_count": null,
   "metadata": {
    "collapsed": true
   },
   "outputs": [],
   "source": [
    "ir.mode='IR-SEEK'"
   ]
  },
  {
   "cell_type": "markdown",
   "metadata": {},
   "source": [
    "- `mode='IR-SEEK'`: in the *seek* mode, the values report back on messagees received via a particular channel. When looking in the same direction as the sensor, a *heading* of -25 is far left and +25 is far right. On the *distance* measure, *100%* is approximately *70cm/27in*. The absence of a beacon on a channel can be detected when *distance == -128* and *heading == 0*.\n",
    "  - `value0`: *channel 1, heading (-25 to 25)*\n",
    "  - `value1`: *channel 1, distance (-128 and 0 to 100)*\n",
    "  - `value2`: *channel 2, heading (-25 to 25)*\n",
    "  - `value3`: *channel 2, distance (-128 and 0 to 100)*\n",
    "  - `value4`: *channel 3, heading (-25 to 25)*\n",
    "  - `value5`: *channel 3, distance (-128 and 0 to 100)*\n",
    "  - `value6`: *channel 4, heading (-25 to 25)*\n",
    "  - `value7`: *channel 4, distance (-128 and 0 to 100)*"
   ]
  },
  {
   "cell_type": "code",
   "execution_count": null,
   "metadata": {
    "collapsed": true
   },
   "outputs": [],
   "source": [
    "ir.mode='IR-REMOTE'"
   ]
  },
  {
   "cell_type": "markdown",
   "metadata": {},
   "source": [
    "  - `mode='IR-REMOTE'`: in the *remote* mode, the infra-red sensor returns a value that can be decoded to identify which remote control buttons have been pressed. Conventionally, *red == left* and *blue == right*. The same codes are used for all channels. *Channel 1..4* report on sensor value *0..3*.\n",
    "      - *0*: *none*\n",
    "      - *1*: *red up*\n",
    "      - *2*: *red down*\n",
    "      - *3*: *blue up*\n",
    "      - *4*: *blue down*\n",
    "      - *5*: *red up* and *blue up*\n",
    "      - *6*: *red up* and *blue down*\n",
    "      - *7*: *red down* and *blue up*\n",
    "      - *8*: *red down* and *blue down*\n",
    "      - *9*: *beacon mode on*\n",
    "      - *10*: *red up* and *red down*\n",
    "      - *11*: *blue up* and *blue down*"
   ]
  },
  {
   "cell_type": "markdown",
   "metadata": {},
   "source": [
    "### Remote Control\n",
    "\n",
    "The Lego remote control provides a means of controlling the Ev3 via the infra-red sensors, or it can be used to set up a beacon that can operate on one of four channels."
   ]
  },
  {
   "cell_type": "code",
   "execution_count": 8,
   "metadata": {
    "collapsed": false
   },
   "outputs": [],
   "source": [
    "R=RemoteControl()"
   ]
  },
  {
   "cell_type": "markdown",
   "metadata": {},
   "source": [
    "- `connected`: *Boolean* value identifiying whether the infra-red sensor is connected"
   ]
  },
  {
   "cell_type": "code",
   "execution_count": 61,
   "metadata": {
    "collapsed": false
   },
   "outputs": [
    {
     "data": {
      "text/plain": [
       "True"
      ]
     },
     "execution_count": 61,
     "metadata": {},
     "output_type": "execute_result"
    }
   ],
   "source": [
    "R.connected"
   ]
  },
  {
   "cell_type": "markdown",
   "metadata": {},
   "source": [
    "- `beacon`: *Boolean* value identifiying whether the beacon is enabled"
   ]
  },
  {
   "cell_type": "code",
   "execution_count": 64,
   "metadata": {
    "collapsed": false
   },
   "outputs": [
    {
     "data": {
      "text/plain": [
       "True"
      ]
     },
     "execution_count": 64,
     "metadata": {},
     "output_type": "execute_result"
    }
   ],
   "source": [
    "R.beacon"
   ]
  },
  {
   "cell_type": "markdown",
   "metadata": {},
   "source": [
    "- `blue_down` | `blue_up` | `red_down` | `red_up`: *Boolean* value identifiying whether the corresponsding remote button is currently being pressed"
   ]
  },
  {
   "cell_type": "markdown",
   "metadata": {},
   "source": [
    "- `any()`: *Boolean* value identifiying whether any buttons on the remote are being pressed"
   ]
  },
  {
   "cell_type": "code",
   "execution_count": null,
   "metadata": {
    "collapsed": true
   },
   "outputs": [],
   "source": [
    "#Run this cell without any remote button pressed\n",
    "R.any()\n",
    "#Then run it again whilst pressing one or more buttons on the remote"
   ]
  },
  {
   "cell_type": "markdown",
   "metadata": {},
   "source": [
    "- `buttons_pressed()`: return a list containing the names of any buttons currently being pressed"
   ]
  },
  {
   "cell_type": "code",
   "execution_count": null,
   "metadata": {
    "collapsed": true
   },
   "outputs": [],
   "source": [
    "#Run this cell without any remote button pressed\n",
    "R.buttons_pressed()\n",
    "#Then run it again whilst pressing one or more buttons on the remote"
   ]
  },
  {
   "cell_type": "markdown",
   "metadata": {},
   "source": [
    "We can create a simple dashboard to display which button or buttons are currently being pressed.\n",
    "\n",
    "The `RepeatedTimer()` class should perhaps be included as a helper utility?"
   ]
  },
  {
   "cell_type": "code",
   "execution_count": 45,
   "metadata": {
    "collapsed": true
   },
   "outputs": [],
   "source": [
    "#http://stackoverflow.com/a/13151299/454773\n",
    "#This class allows you to fire an event repeatedly ever interval seconds\n",
    "from threading import Timer\n",
    "            \n",
    "class RepeatedTimer(object):\n",
    "    def __init__(self, interval, function, name='Repeated Timer', *args, **kwargs):\n",
    "        self._timer     = None\n",
    "        self.interval   = interval\n",
    "        self.function   = function\n",
    "        self.name=name\n",
    "        self.args       = args\n",
    "        self.kwargs     = kwargs\n",
    "        self.is_running = False\n",
    "        self.start()\n",
    "\n",
    "    def _run(self):\n",
    "        self.is_running = False\n",
    "        self.start()\n",
    "        self.function(*self.args, **self.kwargs)\n",
    "\n",
    "    def start(self):\n",
    "        if not self.is_running:\n",
    "            self._timer = Timer(self.interval, self._run)\n",
    "            #name the timer so we can spot it and kill it\n",
    "            self._timer.setName(self.name)\n",
    "            self._timer.start()\n",
    "            self.is_running = True\n",
    "\n",
    "    def stop(self):\n",
    "        self._timer.cancel()\n",
    "        self.is_running = False\n",
    "\n",
    "    def stop(self):\n",
    "        self._timer.cancel()\n",
    "        self.is_running = False\n",
    "        \n",
    "#Provide some defensive coutnermeasures when handling threads to kill all named timers we've created\n",
    "#If we make sure we name thread\n",
    "import threading\n",
    "\n",
    "#t is here as a placeholder in case we want to pass in a specific thread to kill?\n",
    "def killThreads(n=None,t=None):\n",
    "    if n is None:\n",
    "        n=['Repeated Timer','Data logger']\n",
    "    for t in threading.enumerate():\n",
    "        if t.getName() in n:\n",
    "            t.cancel()\n",
    "            \n",
    "#We can then kill any threads we know we've created if we have to...\n",
    "killThreads()"
   ]
  },
  {
   "cell_type": "markdown",
   "metadata": {},
   "source": [
    "We will use the `RepeatedTimer()` to repeatedly check the remote.\n",
    "\n",
    "We can create a simple text widget to display whether any  buttons are currently being pressed on the remote control."
   ]
  },
  {
   "cell_type": "code",
   "execution_count": 39,
   "metadata": {
    "collapsed": false
   },
   "outputs": [
    {
     "name": "stderr",
     "output_type": "stream",
     "text": [
      "The installed widget Javascript is the wrong version.\n"
     ]
    }
   ],
   "source": [
    "from ipywidgets import widgets\n",
    "\n",
    "output = widgets.Text()\n",
    "\n",
    "output"
   ]
  },
  {
   "cell_type": "markdown",
   "metadata": {},
   "source": [
    "Bind a simple display function to the remote control button events and call the timer every tenth of a second until we tell it stop by switching the beacon on."
   ]
  },
  {
   "cell_type": "code",
   "execution_count": 49,
   "metadata": {
    "collapsed": false
   },
   "outputs": [],
   "source": [
    "def test_remote():\n",
    "    output.value= 'No button pressed' if not R.any() else 'Buttons pressed: {}'.format(','.join(R.buttons_pressed))\n",
    "\n",
    "rt = RepeatedTimer(0.1, test_remote)\n",
    "\n",
    "\n",
    "#Switch off the monitoring of the remote when the beacon is switched on\n",
    "while not R.beacon:\n",
    "    pass\n",
    "#Stop the timer\n",
    "rt.stop()"
   ]
  },
  {
   "cell_type": "markdown",
   "metadata": {},
   "source": [
    "- `on_red_down` | `on_red_up` | `on_blue_down` | `on_blue_up`: remote control button events that we can bind our own handler functions to."
   ]
  },
  {
   "cell_type": "code",
   "execution_count": 70,
   "metadata": {
    "collapsed": false
   },
   "outputs": [
    {
     "name": "stderr",
     "output_type": "stream",
     "text": [
      "The installed widget Javascript is the wrong version.\n"
     ]
    }
   ],
   "source": [
    "#Create a simple text output display\n",
    "output2= widgets.Text()\n",
    "output2"
   ]
  },
  {
   "cell_type": "code",
   "execution_count": 88,
   "metadata": {
    "collapsed": false
   },
   "outputs": [],
   "source": [
    "#Create a function to display when a remote control button event has been raised\n",
    "def remote_print_button(txt=''):\n",
    "    output2.value=txt\n",
    "    time.sleep(1)\n",
    "    output2.value=''\n",
    "\n",
    "#Bind event display function calls to the remote control button events\n",
    "R.on_red_down  = lambda x: remote_print_button('red down')\n",
    "R.on_red_up    = lambda x: remote_print_button('red up')\n",
    "R.on_blue_down = lambda x: remote_print_button('blue down')\n",
    "R.on_blue_up   = lambda x: remote_print_button('blue up')\n",
    "\n",
    "#A more generic event\n",
    "#R.on_change"
   ]
  },
  {
   "cell_type": "code",
   "execution_count": null,
   "metadata": {
    "collapsed": false
   },
   "outputs": [],
   "source": [
    "#Start checking the remote\n",
    "#Enable the beacon to break out of this loop\n",
    "while not R.beacon:\n",
    "    R.process()"
   ]
  },
  {
   "cell_type": "markdown",
   "metadata": {},
   "source": [
    "## Brick Resources"
   ]
  },
  {
   "cell_type": "markdown",
   "metadata": {},
   "source": [
    "### Power Supply\n",
    "\n",
    "Various diagnostics associated with the power supply can be reported."
   ]
  },
  {
   "cell_type": "code",
   "execution_count": 168,
   "metadata": {
    "collapsed": true
   },
   "outputs": [],
   "source": [
    "P=PowerSupply()"
   ]
  },
  {
   "cell_type": "markdown",
   "metadata": {},
   "source": [
    "- `max_voltage`: the maximum voltage in (in *microvolts*)"
   ]
  },
  {
   "cell_type": "code",
   "execution_count": 169,
   "metadata": {
    "collapsed": false
   },
   "outputs": [
    {
     "data": {
      "text/plain": [
       "7500000"
      ]
     },
     "execution_count": 169,
     "metadata": {},
     "output_type": "execute_result"
    }
   ],
   "source": [
    "P.max_voltage"
   ]
  },
  {
   "cell_type": "code",
   "execution_count": 171,
   "metadata": {
    "collapsed": false
   },
   "outputs": [
    {
     "name": "stdout",
     "output_type": "stream",
     "text": [
      "The maximum voltage is 7.5 volts.\n"
     ]
    }
   ],
   "source": [
    "print('The maximum voltage is {} volts.'.format(P.max_voltage/1000000))"
   ]
  },
  {
   "cell_type": "markdown",
   "metadata": {},
   "source": [
    "- `min_voltage`: the minimum voltage (in *microvolts*)"
   ]
  },
  {
   "cell_type": "code",
   "execution_count": 177,
   "metadata": {
    "collapsed": false
   },
   "outputs": [
    {
     "data": {
      "text/plain": [
       "7100000"
      ]
     },
     "execution_count": 177,
     "metadata": {},
     "output_type": "execute_result"
    }
   ],
   "source": [
    "P.min_voltage"
   ]
  },
  {
   "cell_type": "markdown",
   "metadata": {},
   "source": [
    "- `measured_amps`: the measured current that the battery is supplying (in *amps*)"
   ]
  },
  {
   "cell_type": "code",
   "execution_count": 172,
   "metadata": {
    "collapsed": false
   },
   "outputs": [
    {
     "data": {
      "text/plain": [
       "0.221333"
      ]
     },
     "execution_count": 172,
     "metadata": {},
     "output_type": "execute_result"
    }
   ],
   "source": [
    "P.measured_amps"
   ]
  },
  {
   "cell_type": "markdown",
   "metadata": {},
   "source": [
    "- `measured_current`: the measured current that the battery is supplying (in *microamps*)"
   ]
  },
  {
   "cell_type": "code",
   "execution_count": 173,
   "metadata": {
    "collapsed": false
   },
   "outputs": [
    {
     "data": {
      "text/plain": [
       "194666"
      ]
     },
     "execution_count": 173,
     "metadata": {},
     "output_type": "execute_result"
    }
   ],
   "source": [
    "P.measured_current"
   ]
  },
  {
   "cell_type": "markdown",
   "metadata": {},
   "source": [
    "- `measured_voltage`: the measured voltage that the battery is supplying (in *microvolts*)"
   ]
  },
  {
   "cell_type": "code",
   "execution_count": 175,
   "metadata": {
    "collapsed": false
   },
   "outputs": [
    {
     "data": {
      "text/plain": [
       "8249733"
      ]
     },
     "execution_count": 175,
     "metadata": {},
     "output_type": "execute_result"
    }
   ],
   "source": [
    "P.measured_voltage"
   ]
  },
  {
   "cell_type": "markdown",
   "metadata": {},
   "source": [
    "- `measured_volts`: the measured voltage that the battery is supplying (in *volts*)"
   ]
  },
  {
   "cell_type": "code",
   "execution_count": 176,
   "metadata": {
    "collapsed": false
   },
   "outputs": [
    {
     "data": {
      "text/plain": [
       "8.249733"
      ]
     },
     "execution_count": 176,
     "metadata": {},
     "output_type": "execute_result"
    }
   ],
   "source": [
    "P.measured_volts"
   ]
  },
  {
   "cell_type": "markdown",
   "metadata": {},
   "source": [
    "- `technology`: the type battery technology being used"
   ]
  },
  {
   "cell_type": "code",
   "execution_count": 178,
   "metadata": {
    "collapsed": false
   },
   "outputs": [
    {
     "data": {
      "text/plain": [
       "u'Li-ion'"
      ]
     },
     "execution_count": 178,
     "metadata": {},
     "output_type": "execute_result"
    }
   ],
   "source": [
    "P.technology"
   ]
  },
  {
   "cell_type": "markdown",
   "metadata": {},
   "source": [
    "- `type`: the type of power source being used"
   ]
  },
  {
   "cell_type": "code",
   "execution_count": null,
   "metadata": {
    "collapsed": false
   },
   "outputs": [],
   "source": [
    "P.type"
   ]
  },
  {
   "cell_type": "markdown",
   "metadata": {},
   "source": [
    "### Button\n",
    "\n",
    "The button class allows us to access buttons on the EV3 brick. These will not be explored in any depth here.\n",
    "\n",
    "- `any()`: checks if any button is pressed.\n",
    "\n",
    "- `backspace`: check if ‘backspace’ button is pressed.\n",
    "\n",
    "- `buttons_pressed`: returns list of names of pressed buttons.\n",
    "\n",
    "- `check_buttons(buttons=[])`: check if currently pressed buttons exactly match the given list.\n",
    "\n",
    "- `down`: check if ‘down’ button is pressed.\n",
    "\n",
    "- `enter`: check if ‘enter’ button is pressed.\n",
    "\n",
    "- `left`: check if ‘left’ button is pressed.\n",
    "\n",
    "- `static on_backspace(state)`: this handler is called by process() whenever state of ‘backspace’ button has changed since last process() call. state parameter is the new state of the button.\n",
    "\n",
    "- `on_change(changed_buttons)`: this handler is called by process() whenever state of any button has changed since last process() call. changed_buttons is a list of tuples of changed button names and their states.\n",
    "\n",
    "- `static on_down(state)`: this handler is called by process() whenever state of ‘down’ button has changed since last process() call. state parameter is the new state of the button.\n",
    "\n",
    "- `static on_enter(state)`: this handler is called by process() whenever state of ‘enter’ button has changed since last process() call. state parameter is the new state of the button.\n",
    "\n",
    "- `static on_left(state)`: this handler is called by process() whenever state of ‘left’ button has changed since last process() call. state parameter is the new state of the button.\n",
    "\n",
    "- `static on_right(state)`: this handler is called by process() whenever state of ‘right’ button has changed since last process() call. state parameter is the new state of the button.\n",
    "\n",
    "- `static on_up(state)`: this handler is called by process() whenever state of ‘up’ button has changed since last process() call. state parameter is the new state of the button.\n",
    "\n",
    "- `process()`: check for currenly pressed buttons. If the new state differs from the old state, call the appropriate button event handlers.\n",
    "\n",
    "- `right`: check if ‘right’ button is pressed.\n",
    "\n",
    "- `up`: check if ‘up’ button is pressed."
   ]
  },
  {
   "cell_type": "markdown",
   "metadata": {},
   "source": [
    "### Note - Using Button.any()\n",
    "\n",
    "It may be useful to use `Button.any()` to run test routines.\n",
    "\n",
    "For example:"
   ]
  },
  {
   "cell_type": "code",
   "execution_count": 11,
   "metadata": {
    "collapsed": false
   },
   "outputs": [],
   "source": [
    "m = LargeMotor(OUTPUT_A)\n",
    "\n",
    "#Run some commands\n",
    "m.run_forever(duty_cycle_sp=75)\n",
    "\n",
    "while not Button().any():\n",
    "    #do whatever\n",
    "    pass\n",
    "\n",
    "m.stop()"
   ]
  },
  {
   "cell_type": "markdown",
   "metadata": {},
   "source": [
    "### Screen\n",
    "\n",
    "Some simple utilities are able to manage the sscreen., but they are limited and will not be covered here.\n",
    "\n",
    "- `clear()`: clears the screen\n",
    "- `draw()`: returns a handle to *PIL.ImageDraw.Draw* class associated with the screen. For example, `screen.draw.rectangle((10,10,60,20), fill='black')`\n",
    "- `shape`: dimensions of the screen.\n",
    "- `update()`: applies pending changes to the screen. Nothing will be drawn on the screen until this function is called.\n",
    "- `xres`: horizontal screen resolution\n",
    "- `yres`: vertical screen resolution"
   ]
  }
 ],
 "metadata": {
  "kernelspec": {
   "display_name": "SSH robot@192.168.1.106 Ev3dev",
   "language": "",
   "name": "rik_ssh_robot_192_168_1_106_ev3dev"
  },
  "language_info": {
   "codemirror_mode": {
    "name": "ipython",
    "version": 2
   },
   "file_extension": ".py",
   "mimetype": "text/x-python",
   "name": "python",
   "nbconvert_exporter": "python",
   "pygments_lexer": "ipython2",
   "version": "2.7.9"
  },
  "widgets": {
   "state": {},
   "version": "1.1.1"
  }
 },
 "nbformat": 4,
 "nbformat_minor": 0
}
