{
 "cells": [
  {
   "cell_type": "markdown",
   "metadata": {},
   "source": [
    "*This notebook uses ipywidgets. Run Jupyter with: `jupyter nbextension enable --py --sys-prefix widgetsnbextension`*"
   ]
  },
  {
   "cell_type": "markdown",
   "metadata": {},
   "source": [
    "## Example Exercises\n",
    "\n",
    "The following exercises demonstrate various ways of programming the robot."
   ]
  },
  {
   "cell_type": "code",
   "execution_count": null,
   "metadata": {
    "collapsed": false
   },
   "outputs": [],
   "source": [
    "#Wake up the kernel\n",
    "print('Hello World!')"
   ]
  },
  {
   "cell_type": "code",
   "execution_count": 5,
   "metadata": {
    "collapsed": false
   },
   "outputs": [],
   "source": [
    "%matplotlib inline\n",
    "#This cell may take some time to run\n",
    "# because the matplotlib requirement is quite large...\n",
    "\n",
    "from ev3dev.auto import *\n",
    "import time\n",
    "from __future__ import division\n",
    "from math import pi\n",
    "from ipywidgets import widgets, interact\n",
    "\n",
    "def wait(time_in_ms):\n",
    "    time.sleep( time_in_ms / 1000)"
   ]
  },
  {
   "cell_type": "markdown",
   "metadata": {},
   "source": [
    "### Driving Basics\n",
    "\n",
    "Familiarisation with driving:\n",
    "\n",
    "- motor assignment;\n",
    "- motor runs commands;\n",
    "- motor stop commands (*coast*, *brake*, *hold*)."
   ]
  },
  {
   "cell_type": "markdown",
   "metadata": {},
   "source": [
    "----"
   ]
  },
  {
   "cell_type": "code",
   "execution_count": 3,
   "metadata": {
    "collapsed": true
   },
   "outputs": [],
   "source": [
    "#Drive demo based on https://github.com/rhempel/ev3dev-lang-python/blob/master/demo/auto-drive.py\n",
    "#Originally Copyright (c) 2015 Denis Demidov <dennis.demidov@gmail.com>\n",
    "\n",
    "\n",
    "# In this demo an Explor3r robot with touch sensor attachement drives\n",
    "# autonomously. It drives forward until an obstacle is bumped (determined by\n",
    "# the touch sensor), then turns in a random direction and continues. The robot\n",
    "# slows down when it senses obstacle ahead (with the infrared sensor).\n",
    "#\n",
    "# The program may be stopped by pressing any button on the brick.\n",
    "#\n",
    "# This demonstrates usage of motors, sound, sensors, buttons, and leds.\n",
    "\n",
    "from time import sleep\n",
    "from random import choice, randint\n",
    "\n",
    "from ev3dev.auto import *\n",
    "\n",
    "# Connect two large motors on output ports B and C:\n",
    "motors = [LargeMotor(address) for address in (OUTPUT_B, OUTPUT_C)]\n",
    "\n",
    "# Every device in ev3dev has `connected` property. Use it to check that the\n",
    "# device has actually been connected.\n",
    "assert all([m.connected for m in motors]), \\\n",
    "    \"Two large motors should be connected to ports B and C\""
   ]
  },
  {
   "cell_type": "code",
   "execution_count": 4,
   "metadata": {
    "collapsed": true
   },
   "outputs": [],
   "source": [
    "def demo_start_motors(duty_cycle_sp=None):\n",
    "    \"\"\"\n",
    "    Start both motors. `run-direct` command will allow to vary motor\n",
    "    performance on the fly by adjusting `duty_cycle_sp` attribute.\n",
    "    \"\"\"\n",
    "    sp_set=False\n",
    "    for m in motors:\n",
    "        m.run_direct() if duty_cycle_sp is None else m.run_direct(duty_cycle_sp=duty_cycle_sp)\n",
    "        \n",
    "        if m.duty_cycle_sp!=0: sp_set=True\n",
    "            \n",
    "    if not sp_set:\n",
    "        print('**WARNING**: duty_cycle_sp is zero for both motors')"
   ]
  },
  {
   "cell_type": "code",
   "execution_count": 5,
   "metadata": {
    "collapsed": false
   },
   "outputs": [],
   "source": [
    "demo_start_motors()"
   ]
  },
  {
   "cell_type": "code",
   "execution_count": 6,
   "metadata": {
    "collapsed": false
   },
   "outputs": [],
   "source": [
    "demo_start_motors(75)"
   ]
  },
  {
   "cell_type": "code",
   "execution_count": 6,
   "metadata": {
    "collapsed": false
   },
   "outputs": [],
   "source": [
    "# Stop the motors before exiting.\n",
    "def demo_stop_motors():\n",
    "    for m in motors:\n",
    "        m.stop()"
   ]
  },
  {
   "cell_type": "code",
   "execution_count": 7,
   "metadata": {
    "collapsed": true
   },
   "outputs": [],
   "source": [
    "demo_stop_motors()"
   ]
  },
  {
   "cell_type": "code",
   "execution_count": 9,
   "metadata": {
    "collapsed": true
   },
   "outputs": [],
   "source": [
    "def demo_turn():\n",
    "    \"\"\"\n",
    "    Turn the robot in random direction.\n",
    "    At the end of the turn, the motors will be switched off.\n",
    "    \"\"\"\n",
    "\n",
    "    # Turn the robot wheels in opposite directions from 1/4 to 3/4 of a second.\n",
    "    # Use `random.choice()` to decide which wheel will turn which way.\n",
    "    power = choice([(1, -1), (-1, 1)])\n",
    "    t = randint(250, 750)\n",
    "\n",
    "    for m, p in zip(motors, power):\n",
    "        m.run_timed(duty_cycle_sp=p*75, time_sp=t)\n",
    "\n",
    "    # Wait until both motors are stopped:\n",
    "    while any(m.state for m in motors):\n",
    "        sleep(0.1)"
   ]
  },
  {
   "cell_type": "code",
   "execution_count": 12,
   "metadata": {
    "collapsed": true
   },
   "outputs": [],
   "source": [
    "demo_start_motors()"
   ]
  },
  {
   "cell_type": "code",
   "execution_count": 13,
   "metadata": {
    "collapsed": true
   },
   "outputs": [],
   "source": [
    "demo_turn()"
   ]
  },
  {
   "cell_type": "code",
   "execution_count": 21,
   "metadata": {
    "collapsed": true
   },
   "outputs": [],
   "source": [
    "def demo_backup():\n",
    "    \"\"\"\n",
    "    Back away from an obstacle.\n",
    "    \"\"\"\n",
    "\n",
    "    # Sound backup alarm.\n",
    "    Sound.tone([(1000, 500, 500)] * 3).wait()\n",
    "\n",
    "    # Turn backup lights on:\n",
    "    for light in (Leds.LEFT, Leds.RIGHT):\n",
    "        Leds.set_color(light, Leds.RED)\n",
    "\n",
    "    # Stop both motors and reverse for 1.5 seconds.\n",
    "    # `run-timed` command will return immediately, so we will have to wait\n",
    "    # until both motors are stopped before continuing.\n",
    "    for m in motors:\n",
    "        m.stop(stop_command='brake')\n",
    "        m.run_timed(duty_cycle_sp=-50, time_sp=1500)\n",
    "\n",
    "    # When motor is stopped, its `state` attribute returns empty list.\n",
    "    # Wait until both motors are stopped:\n",
    "    while any(m.state for m in motors):\n",
    "        sleep(0.1)\n",
    "\n",
    "    # Turn backup lights off:\n",
    "    for light in (Leds.LEFT, Leds.RIGHT):\n",
    "        Leds.set_color(light, Leds.GREEN)"
   ]
  },
  {
   "cell_type": "code",
   "execution_count": 22,
   "metadata": {
    "collapsed": true
   },
   "outputs": [],
   "source": [
    "demo_start_motors()"
   ]
  },
  {
   "cell_type": "code",
   "execution_count": 23,
   "metadata": {
    "collapsed": false
   },
   "outputs": [],
   "source": [
    "demo_backup()"
   ]
  },
  {
   "cell_type": "code",
   "execution_count": 24,
   "metadata": {
    "collapsed": true
   },
   "outputs": [],
   "source": [
    "# Connect infrared and touch sensors.\n",
    "ir = InfraredSensor(); assert ir.connected\n",
    "ts = TouchSensor();    assert ts.connected"
   ]
  },
  {
   "cell_type": "code",
   "execution_count": null,
   "metadata": {
    "collapsed": true
   },
   "outputs": [],
   "source": [
    "# Put the infrared sensor into proximity mode.\n",
    "ir.mode = 'IR-PROX'"
   ]
  },
  {
   "cell_type": "code",
   "execution_count": 26,
   "metadata": {
    "collapsed": false
   },
   "outputs": [
    {
     "data": {
      "text/plain": [
       "[u'IR-PROX', u'IR-SEEK', u'IR-REMOTE', u'IR-REM-A', u'IR-S-ALT', u'IR-CAL']"
      ]
     },
     "execution_count": 26,
     "metadata": {},
     "output_type": "execute_result"
    }
   ],
   "source": [
    "ir.modes"
   ]
  },
  {
   "cell_type": "code",
   "execution_count": null,
   "metadata": {
    "collapsed": true
   },
   "outputs": [],
   "source": [
    "# Simple get out clause - stop on brick button press\n",
    "btn = Button()\n",
    "\n",
    "# Run the robot until a button is pressed.\n",
    "start()\n",
    "while not btn.any():\n",
    "\n",
    "    if ts.value():\n",
    "        # We bumped an obstacle.\n",
    "        # Back away, turn and go in other direction.\n",
    "        backup()\n",
    "        turn()\n",
    "        start()\n",
    "\n",
    "    # Infrared sensor in proximity mode will measure distance to the closest\n",
    "    # object in front of it.\n",
    "    distance = ir.value()\n",
    "\n",
    "    if distance > 60:\n",
    "        # Path is clear, run at full speed.\n",
    "        dc = 90\n",
    "    else:\n",
    "        # Obstacle ahead, slow down.\n",
    "        dc = 40\n",
    "\n",
    "    for m in motors:\n",
    "        m.duty_cycle_sp = dc\n",
    "\n",
    "    sleep(0.1)"
   ]
  },
  {
   "cell_type": "markdown",
   "metadata": {},
   "source": [
    "----"
   ]
  },
  {
   "cell_type": "markdown",
   "metadata": {},
   "source": [
    "Simple example of a widget to control / report on current duty cycle (crude speed control)."
   ]
  },
  {
   "cell_type": "code",
   "execution_count": null,
   "metadata": {
    "collapsed": false
   },
   "outputs": [],
   "source": [
    "m = LargeMotor(OUTPUT_B)\n",
    "\n",
    "def run_m(dc):\n",
    "    m.duty_cycle_sp=dc\n",
    "    print('Duty cycle: {}'.format(dc))\n",
    "\n",
    "interact(run_m, dc=(-100,100,10))\n",
    "\n",
    "m.run_direct()"
   ]
  },
  {
   "cell_type": "code",
   "execution_count": 9,
   "metadata": {
    "collapsed": true
   },
   "outputs": [],
   "source": [
    "m.stop()"
   ]
  },
  {
   "cell_type": "markdown",
   "metadata": {},
   "source": [
    "### Remote Control\n",
    "\n",
    "How to handle the Lego remote control..."
   ]
  },
  {
   "cell_type": "code",
   "execution_count": 6,
   "metadata": {
    "collapsed": true
   },
   "outputs": [],
   "source": [
    "import threading\n",
    "\n",
    "def checkThreads():\n",
    "    print(', '.join(threading.enumerate()))\n",
    "\n",
    "#Parameter t is here is just a placeholder in case we want to pass in a specific thread to kill?\n",
    "#- Timers get cancelled\n",
    "#- Threads get joined?\n",
    "# Can we detect type and clear all the ones we started?\n",
    "#Start of notebook get a list of all threads, then clear back to that list?\n",
    "def killThreads(n=None,t=None):\n",
    "    if n is None:\n",
    "        n=['Repeated Timer','Data logger']\n",
    "    for t in threading.enumerate():\n",
    "        if t.getName() in n:\n",
    "            t.cancel()\n",
    "            \n",
    "#We can then kill any threads we know we've created if we have to...\n",
    "killThreads()\n",
    "\n",
    "#http://stackoverflow.com/a/13151299/454773down vote\n",
    "from threading import Timer\n",
    "\n",
    "class RepeatedTimer(object):\n",
    "    def __init__(self, interval, function, name='Repeated Timer', *args, **kwargs):\n",
    "        self._timer     = None\n",
    "        self.interval   = interval\n",
    "        self.function   = function\n",
    "        self.name=name\n",
    "        self.args       = args\n",
    "        self.kwargs     = kwargs\n",
    "        self.is_running = False\n",
    "        self.start()\n",
    "\n",
    "    def _run(self):\n",
    "        self.is_running = False\n",
    "        self.start()\n",
    "        self.function(*self.args, **self.kwargs)\n",
    "\n",
    "    def start(self):\n",
    "        if not self.is_running:\n",
    "            self._timer = Timer(self.interval, self._run)\n",
    "            #name the timer so we can spot it and kill it\n",
    "            self._timer.setName(self.name)\n",
    "            self._timer.start()\n",
    "            self.is_running = True\n",
    "\n",
    "    def stop(self):\n",
    "        self._timer.cancel()\n",
    "        self.is_running = False"
   ]
  },
  {
   "cell_type": "markdown",
   "metadata": {},
   "source": [
    "To start with, let's see if we can use the remote control to control the lights on the EV3 brick. "
   ]
  },
  {
   "cell_type": "code",
   "execution_count": 57,
   "metadata": {
    "collapsed": true
   },
   "outputs": [],
   "source": [
    "R=RemoteControl()"
   ]
  },
  {
   "cell_type": "code",
   "execution_count": null,
   "metadata": {
    "collapsed": false
   },
   "outputs": [],
   "source": [
    "r_output = widgets.Text()\n",
    "\n",
    "L=Leds\n",
    "L.all_off()\n",
    "\n",
    "def test_remote_reading():\n",
    "    ''' Indicate the last button pressed '''\n",
    "    txt= 'No button pressed' if not R.any() else 'Buttons pressed: {}'.format(','.join(R.buttons_pressed))\n",
    "    r_output.value='Remote actions: {}'.format(txt)\n",
    "    \n",
    "    if 'red_up' in txt:\n",
    "        L.set_color(L.RIGHT, L.RED)\n",
    "    elif 'red_down' in txt:\n",
    "        L.set_color(L.LEFT, L.RED)\n",
    "    elif 'blue_up' in txt:\n",
    "        L.set_color(L.RIGHT, L.GREEN)\n",
    "    elif 'blue_down' in txt:\n",
    "        L.set_color(L.LEFT, L.GREEN)\n",
    "\n",
    "\n",
    "r_output"
   ]
  },
  {
   "cell_type": "code",
   "execution_count": 120,
   "metadata": {
    "collapsed": false,
    "scrolled": true
   },
   "outputs": [
    {
     "name": "stderr",
     "output_type": "stream",
     "text": [
      "Exception in thread Repeated Timer:\n",
      "Traceback (most recent call last):\n",
      "  File \"/usr/lib/python2.7/threading.py\", line 810, in __bootstrap_inner\n",
      "    self.run()\n",
      "  File \"/usr/lib/python2.7/threading.py\", line 1082, in run\n",
      "    self.function(*self.args, **self.kwargs)\n",
      "  File \"<ipython-input-6-a379ec017516>\", line 38, in _run\n",
      "    self.function(*self.args, **self.kwargs)\n",
      "  File \"<ipython-input-119-05cc41968287>\", line 11, in test_remote_reading\n",
      "    L.set_color(L.RIGHT, L.RED)\n",
      "  File \"/usr/lib/python2.7/dist-packages/ev3dev/ev3.py\", line 76, in set_color\n",
      "    l.brightness_pct = v * pct\n",
      "  File \"/usr/lib/python2.7/dist-packages/ev3dev/core.py\", line 1777, in brightness_pct\n",
      "    self.brightness = value * self.max_brightness\n",
      "  File \"/usr/lib/python2.7/dist-packages/ev3dev/core.py\", line 1695, in max_brightness\n",
      "    return self.get_attr_int('max_brightness')\n",
      "  File \"/usr/lib/python2.7/dist-packages/ev3dev/core.py\", line 207, in get_attr_int\n",
      "    return int(self._get_attribute(attribute))\n",
      "ValueError: invalid literal for int() with base 10: ''\n",
      "\n",
      "Exception in thread Repeated Timer:\n",
      "Traceback (most recent call last):\n",
      "  File \"/usr/lib/python2.7/threading.py\", line 810, in __bootstrap_inner\n",
      "    self.run()\n",
      "  File \"/usr/lib/python2.7/threading.py\", line 1082, in run\n",
      "    self.function(*self.args, **self.kwargs)\n",
      "  File \"<ipython-input-6-a379ec017516>\", line 38, in _run\n",
      "    self.function(*self.args, **self.kwargs)\n",
      "  File \"<ipython-input-119-05cc41968287>\", line 17, in test_remote_reading\n",
      "    L.set_color(L.LEFT, L.GREEN)\n",
      "  File \"/usr/lib/python2.7/dist-packages/ev3dev/ev3.py\", line 76, in set_color\n",
      "    l.brightness_pct = v * pct\n",
      "  File \"/usr/lib/python2.7/dist-packages/ev3dev/core.py\", line 1777, in brightness_pct\n",
      "    self.brightness = value * self.max_brightness\n",
      "  File \"/usr/lib/python2.7/dist-packages/ev3dev/core.py\", line 1695, in max_brightness\n",
      "    return self.get_attr_int('max_brightness')\n",
      "  File \"/usr/lib/python2.7/dist-packages/ev3dev/core.py\", line 207, in get_attr_int\n",
      "    return int(self._get_attribute(attribute))\n",
      "ValueError: invalid literal for int() with base 10: ''\n",
      "\n"
     ]
    }
   ],
   "source": [
    "t_r=RepeatedTimer(0.1,test_remote_reading)"
   ]
  },
  {
   "cell_type": "code",
   "execution_count": null,
   "metadata": {
    "collapsed": false
   },
   "outputs": [],
   "source": [
    "t_r.stop()"
   ]
  },
  {
   "cell_type": "code",
   "execution_count": null,
   "metadata": {
    "collapsed": false
   },
   "outputs": [],
   "source": [
    "killThreads()"
   ]
  },
  {
   "cell_type": "markdown",
   "metadata": {},
   "source": [
    "### Travel in a straight line for a specified distance based on tacho count"
   ]
  },
  {
   "cell_type": "markdown",
   "metadata": {},
   "source": [
    "The basic tyre supplied with the Lego EV3 has a diameter of 56mm (it's written on the tyre).\n",
    "\n",
    "This means that we can programme the robot to travel a particular distance.\n",
    "\n",
    "First, let's define some constants and do some simple sums to work out the values of certain derived quantities."
   ]
  },
  {
   "cell_type": "code",
   "execution_count": null,
   "metadata": {
    "collapsed": false
   },
   "outputs": [],
   "source": [
    "left_motor=LargeMotor(OUTPUT_A)\n",
    "right_motor=LargeMotor(OUTPUT_D)\n",
    "\n",
    "#Assume that the left motor and right motor have similar properties...\n",
    "COUNT_PER_ROTATION =left_motor.count_per_rot\n",
    "\n",
    "#Degrees per tacho count\n",
    "DEGREES_PER_COUNT = 360 / COUNT_PER_ROTATION \n",
    "\n",
    "#Wheel size in mm = 2 * pi * radius =  pi * diameter\n",
    "WHEEL_CIRCUMFERENCE = pi * 56\n",
    "\n",
    "#Distance in millimeters per tacho count\n",
    "MM_PER_COUNT = WHEEL_CIRCUMFERENCE / COUNT_PER_ROTATION\n",
    "\n",
    "#Distance per degree\n",
    "MM_PER_DEGREE = WHEEL_CIRCUMFERENCE / 360\n",
    "\n",
    "#Distance per tacho count\n",
    "COUNT_PER_MM = COUNT_PER_ROTATION / WHEEL_CIRCUMFERENCE"
   ]
  },
  {
   "cell_type": "markdown",
   "metadata": {},
   "source": [
    "Specify how far we want to travel."
   ]
  },
  {
   "cell_type": "code",
   "execution_count": null,
   "metadata": {
    "collapsed": true
   },
   "outputs": [],
   "source": [
    "#Set the distance to travel in centimeters\n",
    "distance_to_travel_cm = 10"
   ]
  },
  {
   "cell_type": "markdown",
   "metadata": {},
   "source": [
    "Create a simple function to convert from centimeters to millimeters."
   ]
  },
  {
   "cell_type": "code",
   "execution_count": null,
   "metadata": {
    "collapsed": true
   },
   "outputs": [],
   "source": [
    "#Define a function to convert centimeters to millimeters\n",
    "def mm_from_cm(cm):\n",
    "    return 10 * cm"
   ]
  },
  {
   "cell_type": "markdown",
   "metadata": {},
   "source": [
    "Do the conversion..."
   ]
  },
  {
   "cell_type": "code",
   "execution_count": 7,
   "metadata": {
    "collapsed": true
   },
   "outputs": [],
   "source": [
    "distance_to_travel_mm = mm_from_cm( distance_to_travel_cm )"
   ]
  },
  {
   "cell_type": "markdown",
   "metadata": {},
   "source": [
    "If we know the distance, and we know the distance per tach count, we can calculate the tacho count required to go a particular distance:"
   ]
  },
  {
   "cell_type": "code",
   "execution_count": 8,
   "metadata": {
    "collapsed": true
   },
   "outputs": [],
   "source": [
    "#Calculate tacho count required to travel that distance\n",
    "count_for_distance = distance_to_travel_mm * COUNT_PER_MM"
   ]
  },
  {
   "cell_type": "markdown",
   "metadata": {},
   "source": [
    "Use that calculated tacho count value to turn on the motors for that particular count."
   ]
  },
  {
   "cell_type": "code",
   "execution_count": 9,
   "metadata": {
    "collapsed": true
   },
   "outputs": [],
   "source": [
    "#Drive for a specified tacho count\n",
    "\n",
    "#Set the motor speed\n",
    "dutycycle=40\n",
    "\n",
    "#Turn on the motors for the required tacho count\n",
    "left_motor.run_to_rel_pos(position_sp=count_for_distance, duty_cycle_sp=dutycycle )\n",
    "right_motor.run_to_rel_pos(position_sp=count_for_distance, duty_cycle_sp=dutycycle )"
   ]
  },
  {
   "cell_type": "markdown",
   "metadata": {},
   "source": [
    "Having tested the code, we might then create a function:"
   ]
  },
  {
   "cell_type": "code",
   "execution_count": null,
   "metadata": {
    "collapsed": true
   },
   "outputs": [],
   "source": [
    "def travel_N_cm( distance_to_travel_cm , dutycycle= 45):\n",
    "    distance_to_travel_mm = mm_from_cm( distance_to_travel_cm )\n",
    "    count_for_distance = distance_to_travel_mm * COUNT_PER_MM\n",
    "    left_motor.run_to_rel_pos(position_sp=count_for_distance, duty_cycle_sp=dutycycle )\n",
    "    right_motor.run_to_rel_pos(position_sp=count_for_distance, duty_cycle_sp=dutycycle )"
   ]
  },
  {
   "cell_type": "markdown",
   "metadata": {},
   "source": [
    "Test the function - forward 5cm, then back 5cm:"
   ]
  },
  {
   "cell_type": "code",
   "execution_count": null,
   "metadata": {
    "collapsed": true
   },
   "outputs": [],
   "source": [
    "travel_N_cm(5)"
   ]
  },
  {
   "cell_type": "code",
   "execution_count": null,
   "metadata": {
    "collapsed": true
   },
   "outputs": [],
   "source": [
    "travel_N_cm(-5)"
   ]
  },
  {
   "cell_type": "markdown",
   "metadata": {},
   "source": [
    "Note that if we call the forward and back functions together, the second command is issued *immediately* after the first, which means that the first is unlikely to be able to take effect.\n",
    "\n",
    "What this means is that we need to check that the commands issued by the `travel_N_cm` function the first time we call it have completed before we call it again."
   ]
  },
  {
   "cell_type": "code",
   "execution_count": null,
   "metadata": {
    "collapsed": true
   },
   "outputs": [],
   "source": [
    "##NOT TESTED##\n",
    "travel_N_cm(5)\n",
    "\n",
    "while 'running' in left_motor.state or 'running' in right_motor.state :\n",
    "    time.sleep(0.1)\n",
    "\n",
    "travel_N_cm(-5)"
   ]
  },
  {
   "cell_type": "code",
   "execution_count": null,
   "metadata": {
    "collapsed": true
   },
   "outputs": [],
   "source": [
    "def actually_travel_N_cm():\n",
    "    #add some logic to test that we've actually travelled the distance\n",
    "    pass"
   ]
  },
  {
   "cell_type": "markdown",
   "metadata": {},
   "source": [
    "### Turn Through N Degrees\n",
    "\n",
    "To turn through 90 degrees, for example, we can either turn on the spot or turn about a particular angle."
   ]
  },
  {
   "cell_type": "markdown",
   "metadata": {},
   "source": [
    "#### Turning About One Wheel\n",
    "\n",
    "To turn about one wheel, turn one wheel on and leave the other one switched off."
   ]
  },
  {
   "cell_type": "markdown",
   "metadata": {},
   "source": [
    "To turn through that particular angle (ninety degrees), we could either calculate how far the activated wheel needs to turn to cover one quarter of the circumference of a circle with a *radius* equal to the width of the robot's *track* (that is, distance between the mid-points of its wheels), *or* we could turn the motor on for a set period of time, which requires that we *calibrate* the robot in order to get an estimate of the time needed to turn through 360 degrees, for example, and divide the resulting time by 4."
   ]
  },
  {
   "cell_type": "code",
   "execution_count": null,
   "metadata": {
    "collapsed": true
   },
   "outputs": [],
   "source": []
  },
  {
   "cell_type": "markdown",
   "metadata": {},
   "source": [
    "### Turning on the Spot\n",
    "\n",
    "To turn on the spot, turn one motor forward and the other one backward at the same speed."
   ]
  },
  {
   "cell_type": "markdown",
   "metadata": {},
   "source": [
    "Again, there are at least the following two ways of calculating this. One is to calculate the distance turned by each wheel (a quarter of the circumference of a circle with *diameter* equal to the *track* of the robot) or a quarter of the time take to turn the robot through one complete turn on the spot. "
   ]
  },
  {
   "cell_type": "code",
   "execution_count": null,
   "metadata": {
    "collapsed": true
   },
   "outputs": [],
   "source": []
  },
  {
   "cell_type": "code",
   "execution_count": null,
   "metadata": {
    "collapsed": true
   },
   "outputs": [],
   "source": []
  },
  {
   "cell_type": "markdown",
   "metadata": {},
   "source": [
    "### Navigate a Square\n",
    "\n",
    "I'm not sure what the best way of getting the ev3dev to finish driving a distance before it starts driving another distance is?"
   ]
  },
  {
   "cell_type": "code",
   "execution_count": null,
   "metadata": {
    "collapsed": true
   },
   "outputs": [],
   "source": [
    "#drive one edge\n",
    "def one_edge(length=20):\n",
    "    pass\n",
    "\n",
    "#Turn ninety degrees\n",
    "def turn(typ='onspot',angle=90):\n",
    "    pass\n",
    "\n",
    "def drive_square(side=20):\n",
    "    done = False\n",
    "    for i in range(4):\n",
    "        while not done:\n",
    "            one_edge(side)\n",
    "        while not done:\n",
    "            turn(90)\n",
    "\n",
    "        "
   ]
  },
  {
   "cell_type": "markdown",
   "metadata": {},
   "source": [
    "### Color Sensor Inspector\n",
    "\n",
    "For the color sensor inspector, we'll introduce a timer that lets us repeatedly check the sensor values with a specified sample rate.\n",
    "\n",
    "The timer actually works by repeatedly defining *another* timer every time it is called, until we tell it to stop."
   ]
  },
  {
   "cell_type": "code",
   "execution_count": null,
   "metadata": {
    "collapsed": true
   },
   "outputs": [],
   "source": [
    "#UNTESTED\n",
    "#Based on https://github.com/rhempel/ev3dev-lang-python/blob/1c9265db6dd5439884a4764f3a84f8ec6bc85220/tests/motor/ev3dev_port_logger.py\n",
    "#Another approach is just to run a parallel thread\n",
    "#This is more akin to the RCX task\n",
    "#Use this as a model for student's own task?\n",
    "class myTaskThread(threading.Thread):\n",
    "    def __init__(self, name='Task thread'):\n",
    "        threading.Thread.__init__(self)\n",
    "        self.name = name\n",
    "        self.done = threading.Event()\n",
    "\n",
    "    def run(self):\n",
    "        #to do\n",
    "        while not self.done.isSet():\n",
    "            pass\n",
    "    \n",
    "    def stop(self, timeout=None):\n",
    "        self.done.set()\n",
    "        self.join(timeout)\n"
   ]
  },
  {
   "cell_type": "markdown",
   "metadata": {},
   "source": [
    "Let's define a colour sensor and check the mode:"
   ]
  },
  {
   "cell_type": "code",
   "execution_count": 7,
   "metadata": {
    "collapsed": false
   },
   "outputs": [],
   "source": [
    "cs = ColorSensor()\n",
    "cs.mode"
   ]
  },
  {
   "cell_type": "markdown",
   "metadata": {},
   "source": [
    "Now define a simple text widget to display the colour sensor value (the widget will remain empty until you call the timer to poll the sensor and run the widget updating function `test_color_sensor()`)."
   ]
  },
  {
   "cell_type": "code",
   "execution_count": 19,
   "metadata": {
    "collapsed": false
   },
   "outputs": [],
   "source": [
    "cs.mode='COL-REFLECT'"
   ]
  },
  {
   "cell_type": "code",
   "execution_count": 34,
   "metadata": {
    "collapsed": false
   },
   "outputs": [],
   "source": [
    "cs_output = widgets.Text()\n",
    "\n",
    "colorMap={0:'No color', 1:'Black',2: 'Blue',3: 'Green',\n",
    "          4: 'Yellow', 5: 'Red', 6: 'White', 7: 'Brown'}\n",
    "\n",
    "def test_color_sensor():\n",
    "    if cs.mode=='COL-REFLECT':\n",
    "        cs_output.value='Colour sensor output: {}'.format(cs.value())\n",
    "    elif cs.mode=='COL-COLOR':\n",
    "        cs_output.value='Colour sensor output: {} ({})'.format(cs.value(), colorMap[cs.value()])\n",
    "\n",
    "#The output units / value look wrong to me? Decimeters, maybe?\n",
    "cs_output"
   ]
  },
  {
   "cell_type": "code",
   "execution_count": 40,
   "metadata": {
    "collapsed": false
   },
   "outputs": [],
   "source": [
    "#Call the timer that polls the sensor\n",
    "t_cs=RepeatedTimer(0.1,test_color_sensor)"
   ]
  },
  {
   "cell_type": "code",
   "execution_count": 41,
   "metadata": {
    "collapsed": false
   },
   "outputs": [],
   "source": [
    "#Stop polling the sensor\n",
    "t_cs.stop()"
   ]
  },
  {
   "cell_type": "markdown",
   "metadata": {},
   "source": [
    "Now change the color mode and start the timer again to see the difference."
   ]
  },
  {
   "cell_type": "code",
   "execution_count": 19,
   "metadata": {
    "collapsed": false
   },
   "outputs": [],
   "source": [
    "cs.mode='COL-COLOR'"
   ]
  },
  {
   "cell_type": "code",
   "execution_count": 39,
   "metadata": {
    "collapsed": true
   },
   "outputs": [],
   "source": [
    "#EMERGENCY STOP BUTTON\n",
    "killThreads()"
   ]
  },
  {
   "cell_type": "markdown",
   "metadata": {},
   "source": [
    "### Line Stopper\n",
    "\n",
    "Continue driving forward until you see a black line on a lighter background."
   ]
  },
  {
   "cell_type": "code",
   "execution_count": null,
   "metadata": {
    "collapsed": true
   },
   "outputs": [],
   "source": []
  },
  {
   "cell_type": "markdown",
   "metadata": {},
   "source": [
    "### Line Colour Detector\n",
    "\n",
    "Report on the colour of various colour lines using the colour sensor."
   ]
  },
  {
   "cell_type": "code",
   "execution_count": null,
   "metadata": {
    "collapsed": true
   },
   "outputs": [],
   "source": []
  },
  {
   "cell_type": "markdown",
   "metadata": {},
   "source": [
    "### Cliff Edge Stopper\n",
    "\n",
    "Continue driving forward until you see over the edge of a cliff. (Light sensor? Or proximity sensor?)"
   ]
  },
  {
   "cell_type": "code",
   "execution_count": null,
   "metadata": {
    "collapsed": true
   },
   "outputs": [],
   "source": []
  },
  {
   "cell_type": "markdown",
   "metadata": {},
   "source": [
    "### Indicate Whether or Not the Touch Sensor is Being Pressed"
   ]
  },
  {
   "cell_type": "markdown",
   "metadata": {},
   "source": [
    "We can create a simple test programme to illustrate whether the touch sensor is being pressed that will switch the colour of the left and right LEDs depending on whether the touch sensor switch is closed or not."
   ]
  },
  {
   "cell_type": "code",
   "execution_count": null,
   "metadata": {
    "collapsed": true
   },
   "outputs": [],
   "source": [
    "#Set colour according to switch\n",
    "ts = TouchSensor()\n",
    "\n",
    "#Simple timoeut routine from http://stackoverflow.com/a/13293316/454773\n",
    "timeout = time.time() + 10   # 10 seconds from now\n",
    "\n",
    "while True:\n",
    "    #Set Leds depending on whether switch is pressed or not\n",
    "    L.set_color(L.RIGHT, L.RED if ts.value() else L.GREEN)\n",
    "    L.set_color(L.LEFT, L.GREEN if ts.value() else L.RED)\n",
    "    \n",
    "    #Break out of the loop after a certain amount of time\n",
    "    if time.time() > timeout:\n",
    "        break"
   ]
  },
  {
   "cell_type": "markdown",
   "metadata": {},
   "source": [
    "Modify the program to say *\"ouch\"* when the robot bumps into something"
   ]
  },
  {
   "cell_type": "code",
   "execution_count": null,
   "metadata": {
    "collapsed": true
   },
   "outputs": [],
   "source": []
  },
  {
   "cell_type": "markdown",
   "metadata": {},
   "source": [
    "### Touch Sensor Bumper\n",
    "\n",
    "Test activities to use the touch sensor:\n",
    "\n",
    "- forward until stop on bump;\n",
    "- reverse and turn set angle on bump, then forward;\n",
    "- reverse and turn random angle on bump, then forward.\n",
    "\n",
    "Add an additional indicator that the robot has bumped by saying \"ouch\" in the reverse phase."
   ]
  },
  {
   "cell_type": "markdown",
   "metadata": {},
   "source": [
    "### Infrared Range Sounder\n",
    "Provide an audio alert as something gets closer to the infra-red sensor."
   ]
  },
  {
   "cell_type": "code",
   "execution_count": 59,
   "metadata": {
    "collapsed": true
   },
   "outputs": [],
   "source": [
    "ir=InfraredSensor()\n",
    "ir.mode='IR-PROX'"
   ]
  },
  {
   "cell_type": "markdown",
   "metadata": {},
   "source": [
    "To provide an audible signal correpsonding to proximity, set a frequency that is inversely proportional to the distance and then use the `Sound.tone(frequency,duration).wait()` construction to generate the sound."
   ]
  },
  {
   "cell_type": "code",
   "execution_count": 69,
   "metadata": {
    "collapsed": true
   },
   "outputs": [],
   "source": [
    "#Set the frequency inversely proportional to the distance\n",
    "#The frequency should go up as we get closer\n",
    "#Infra-red range is 0..100, map onto range 20,000..~200\n",
    "def frequency_by_dist_ir(dist):\n",
    "    if dist!='' and dist>=0:\n",
    "        return  20000 / (dist+1)\n",
    "    return -1        "
   ]
  },
  {
   "cell_type": "code",
   "execution_count": 11,
   "metadata": {
    "collapsed": false
   },
   "outputs": [],
   "source": [
    "ir_output = widgets.Text()\n",
    "\n",
    "def infrared_range():\n",
    "    try:\n",
    "        d=ir.value()\n",
    "    except:\n",
    "        d=''\n",
    "    ir_output.value='Infra-red range: {}'.format(d)\n",
    "\n",
    "def infrared_beeper():\n",
    "    try:\n",
    "        d=ir.value()\n",
    "    except:\n",
    "        d=''\n",
    "    f=frequency_by_dist_ir(d)\n",
    "    if f>0:\n",
    "        Sound.tone(f,10)\n",
    "\n",
    "def infrared_response():\n",
    "    infrared_range()\n",
    "    infrared_beeper()\n",
    "\n",
    "ir_output"
   ]
  },
  {
   "cell_type": "code",
   "execution_count": 81,
   "metadata": {
    "collapsed": false
   },
   "outputs": [],
   "source": [
    "irt = RepeatedTimer(0.2, infrared_response)"
   ]
  },
  {
   "cell_type": "code",
   "execution_count": 82,
   "metadata": {
    "collapsed": false
   },
   "outputs": [],
   "source": [
    "irt.stop()"
   ]
  },
  {
   "cell_type": "markdown",
   "metadata": {},
   "source": [
    "### Infra-Red Proximity Bumper\n",
    "\n",
    "Try to pre-empt the bumper bumping by using the proximity sensor. See how close you can get to the obstacle before taking avoiding action and before actually bumping.\n",
    "\n"
   ]
  },
  {
   "cell_type": "code",
   "execution_count": null,
   "metadata": {
    "collapsed": true
   },
   "outputs": [],
   "source": []
  },
  {
   "cell_type": "markdown",
   "metadata": {},
   "source": [
    "### Homing Beacon\n",
    "\n",
    "The robot should find its way back to the sensor beacon.\n",
    "\n",
    "Start by trying to report on the likely direction of the homing beacon."
   ]
  },
  {
   "cell_type": "code",
   "execution_count": 37,
   "metadata": {
    "collapsed": true
   },
   "outputs": [],
   "source": [
    "ir=InfraredSensor()\n",
    "ir.mode='IR-SEEK'"
   ]
  },
  {
   "cell_type": "code",
   "execution_count": 42,
   "metadata": {
    "collapsed": false
   },
   "outputs": [
    {
     "name": "stderr",
     "output_type": "stream",
     "text": [
      "Widget Javascript not detected.  It may not be installed properly. Did you enable the widgetsnbextension? If not, then run \"jupyter nbextension enable --py --sys-prefix widgetsnbextension\"\n"
     ]
    }
   ],
   "source": [
    "beacon_output = widgets.Text()\n",
    "\n",
    "def ir_beacon_distDir(channel=1):\n",
    "    beacon_output.value='Beacon heading: {}, and range: {}'.format(ir.value(2*(channel-1)),\n",
    "                                                                   ir.value(2*(channel-1)+1))\n",
    "\n",
    "beacon_output"
   ]
  },
  {
   "cell_type": "code",
   "execution_count": 43,
   "metadata": {
    "collapsed": false
   },
   "outputs": [],
   "source": [
    "t_beacon=RepeatedTimer(0.1, ir_beacon_distDir)"
   ]
  },
  {
   "cell_type": "code",
   "execution_count": 44,
   "metadata": {
    "collapsed": true
   },
   "outputs": [],
   "source": [
    "t_beacon.stop()"
   ]
  },
  {
   "cell_type": "markdown",
   "metadata": {},
   "source": [
    "### Gyro Test\n",
    "\n",
    "Simple experiment to see how the gyro works"
   ]
  },
  {
   "cell_type": "code",
   "execution_count": null,
   "metadata": {
    "collapsed": true
   },
   "outputs": [],
   "source": []
  },
  {
   "cell_type": "markdown",
   "metadata": {},
   "source": [
    "### Simple Ultrasound Test\n",
    "\n",
    "*Is there likely to be confusion around the ultrasound sensor when working with multiple robots / ultrasound sensors?*"
   ]
  },
  {
   "cell_type": "code",
   "execution_count": 24,
   "metadata": {
    "collapsed": true
   },
   "outputs": [],
   "source": [
    "us=UltrasonicSensor()"
   ]
  },
  {
   "cell_type": "code",
   "execution_count": 15,
   "metadata": {
    "collapsed": false
   },
   "outputs": [
    {
     "name": "stderr",
     "output_type": "stream",
     "text": [
      "The installed widget Javascript is the wrong version.\n"
     ]
    }
   ],
   "source": [
    "us_output = widgets.Text()\n",
    "\n",
    "US_UNITS=us.units\n",
    "\n",
    "def ultrasound_range():\n",
    "    us_output.value='Ultrasound range: {} {}'.format(us.value(), US_UNITS)\n",
    "\n",
    "#The output units / value look wrong to me? Decimeters, maybe?\n",
    "us_output"
   ]
  },
  {
   "cell_type": "code",
   "execution_count": 18,
   "metadata": {
    "collapsed": false
   },
   "outputs": [],
   "source": [
    "rt = RepeatedTimer(0.1, ultrasound_range)"
   ]
  },
  {
   "cell_type": "code",
   "execution_count": 19,
   "metadata": {
    "collapsed": true
   },
   "outputs": [],
   "source": [
    "#Stop the timer\n",
    "rt.stop()"
   ]
  },
  {
   "cell_type": "markdown",
   "metadata": {},
   "source": [
    "### Ultrasonic Range Sounder\n",
    "\n",
    "Provide an audio alert as something gets closer to the ultrasonic sensor."
   ]
  },
  {
   "cell_type": "code",
   "execution_count": null,
   "metadata": {
    "collapsed": true
   },
   "outputs": [],
   "source": [
    "#Set the frequency inversely proportional to the distance\n",
    "#The frequency should go up as we get closer\n",
    "def frequency_by_dist_us(dist):\n",
    "    return  100000 / dist"
   ]
  },
  {
   "cell_type": "code",
   "execution_count": 27,
   "metadata": {
    "collapsed": false
   },
   "outputs": [],
   "source": [
    "def ultrasound_beeper():\n",
    "    f=frequency_by_dist_us(us.value())\n",
    "    if f>0:\n",
    "        Sound.tone(f,10)"
   ]
  },
  {
   "cell_type": "code",
   "execution_count": 40,
   "metadata": {
    "collapsed": true
   },
   "outputs": [],
   "source": [
    "urt = RepeatedTimer(0.2, ultrasound_beeper)"
   ]
  },
  {
   "cell_type": "code",
   "execution_count": null,
   "metadata": {
    "collapsed": true
   },
   "outputs": [],
   "source": [
    "urt.stop()"
   ]
  },
  {
   "cell_type": "markdown",
   "metadata": {},
   "source": [
    "### Gyro Navigation - Drive Around a Square of Known Side\n",
    "\n",
    "Use the gyro to turn the right angles."
   ]
  },
  {
   "cell_type": "code",
   "execution_count": 161,
   "metadata": {
    "collapsed": true
   },
   "outputs": [],
   "source": [
    "def demo_forward(tsp=1000,dc=20):\n",
    "    for m in motors:\n",
    "        m.run_timed(time_sp=tsp, duty_cycle_sp=dc)"
   ]
  },
  {
   "cell_type": "code",
   "execution_count": 162,
   "metadata": {
    "collapsed": true
   },
   "outputs": [],
   "source": [
    "def demo_turn(direction=(-1,1),dc=25):\n",
    "    for m, p in zip(motors, direction):\n",
    "        m.run_timed(duty_cycle_sp=p*dc, time_sp=100)\n",
    "\n",
    "    # Wait until both motors are stopped:\n",
    "    while any(m.state for m in motors):\n",
    "        sleep(0.1)"
   ]
  },
  {
   "cell_type": "code",
   "execution_count": 155,
   "metadata": {
    "collapsed": false
   },
   "outputs": [],
   "source": [
    "gs=GyroSensor()\n",
    "gs.mode='GYRO-ANG'\n",
    "\n",
    "#If we're within ish degrees that's close enough\n",
    "ish=2\n",
    "\n",
    "def gyro_turn_till_relative(bearing):\n",
    "    #What heading does the gyro currently give, in degrees?\n",
    "    current_heading=gs.value() % 360\n",
    "    #The target heading is the current heading plus the desired bearing\n",
    "    target_heading=(360+current_heading+bearing) % 360\n",
    "    #Keep turning while the current heading is more than ish degrees from the target heading\n",
    "    #Should really optimise the turn so we turn the shortest angle\n",
    "    while abs(( gs.value() % 360)-target_heading) >ish:\n",
    "        if gs.value() % 360 -target_heading <0:\n",
    "            demo_turn((-1,1))\n",
    "        else:\n",
    "            demo_turn((1,-1))"
   ]
  },
  {
   "cell_type": "code",
   "execution_count": 128,
   "metadata": {
    "collapsed": true
   },
   "outputs": [],
   "source": [
    "demo_forward()"
   ]
  },
  {
   "cell_type": "code",
   "execution_count": 168,
   "metadata": {
    "collapsed": false
   },
   "outputs": [],
   "source": [
    "gyro_turn_till_relative(90)"
   ]
  },
  {
   "cell_type": "markdown",
   "metadata": {},
   "source": [
    "### Simple Data Logging\n",
    "\n",
    "While driving over coloured tapes, use the colour sensor to log the colours seen, then interprest the chart:\n",
    "\n",
    "- identify the colours;\n",
    "- how would you work out the *width* of the pieces of coloured tape?"
   ]
  },
  {
   "cell_type": "code",
   "execution_count": 129,
   "metadata": {
    "collapsed": false
   },
   "outputs": [],
   "source": [
    "from threading import Timer\n",
    "from datetime import datetime\n",
    "class SensorDataLogger(object):\n",
    "    def __init__(self, sensor, interval=0.1, maxSamples=20000, name='Data logger'):\n",
    "        self.sensor     = sensor\n",
    "        self.interval   = interval #period between samples in seconds\n",
    "        self.name= name\n",
    "        self.results=[]\n",
    "        #self.basetime =time.time()\n",
    "        self.is_running=False\n",
    "       \n",
    "    def getsample(self):\n",
    "        #now = time.time()\n",
    "        #who have a FIFO queue to drop early samples and retain more recent ones?\n",
    "        #Or something more intelligent? eg drop every othersample? (so resample, essentially?)\n",
    "        if len(self.results)<=maxSamples:\n",
    "            self.results.append((datetime.now(), self.sensor.value()))\n",
    "        \n",
    "    def _run(self):\n",
    "        self.is_running = False\n",
    "        self.start()\n",
    "        self.getsample()\n",
    "\n",
    "    def start(self):\n",
    "        if not self.is_running:\n",
    "            self._timer = Timer(self.interval, self._run)\n",
    "            self._timer.setName(self.name)\n",
    "            self._timer.start()\n",
    "            self.is_running = True\n",
    "\n",
    "    def stop(self):\n",
    "        self._timer.cancel()\n",
    "        self.is_running = False\n",
    "        killThreads(self.name)\n",
    "        #return self.results\n",
    "        \n",
    "    def log(self):\n",
    "        return self.results"
   ]
  },
  {
   "cell_type": "code",
   "execution_count": 110,
   "metadata": {
    "collapsed": true
   },
   "outputs": [],
   "source": [
    "#Define a colour sensor\n",
    "cs=ColorSensor()"
   ]
  },
  {
   "cell_type": "code",
   "execution_count": 111,
   "metadata": {
    "collapsed": false
   },
   "outputs": [],
   "source": [
    "#Log the colour sensor\n",
    "dd=SensorDataLogger(cs)"
   ]
  },
  {
   "cell_type": "code",
   "execution_count": 112,
   "metadata": {
    "collapsed": false
   },
   "outputs": [],
   "source": [
    "#Start the logger\n",
    "dd.start()"
   ]
  },
  {
   "cell_type": "code",
   "execution_count": 113,
   "metadata": {
    "collapsed": false
   },
   "outputs": [],
   "source": [
    "#Stop the logger\n",
    "dd.stop()"
   ]
  },
  {
   "cell_type": "code",
   "execution_count": 114,
   "metadata": {
    "collapsed": false
   },
   "outputs": [
    {
     "data": {
      "text/plain": [
       "[(datetime.datetime(2016, 5, 16, 15, 57, 23, 739515), 0),\n",
       " (datetime.datetime(2016, 5, 16, 15, 57, 23, 888700), 0),\n",
       " (datetime.datetime(2016, 5, 16, 15, 57, 24, 20172), 0),\n",
       " (datetime.datetime(2016, 5, 16, 15, 57, 24, 138923), 0),\n",
       " (datetime.datetime(2016, 5, 16, 15, 57, 24, 260983), 0),\n",
       " (datetime.datetime(2016, 5, 16, 15, 57, 24, 380033), 0),\n",
       " (datetime.datetime(2016, 5, 16, 15, 57, 24, 496049), 0),\n",
       " (datetime.datetime(2016, 5, 16, 15, 57, 24, 612732), 0),\n",
       " (datetime.datetime(2016, 5, 16, 15, 57, 24, 731662), 0),\n",
       " (datetime.datetime(2016, 5, 16, 15, 57, 24, 880443), 0)]"
      ]
     },
     "execution_count": 114,
     "metadata": {},
     "output_type": "execute_result"
    }
   ],
   "source": [
    "#Show the first few  data log values\n",
    "dd.log()[:10]"
   ]
  },
  {
   "cell_type": "markdown",
   "metadata": {},
   "source": [
    "We can cast the data into a *pandas* dataframe on the brick, although it may be more resource friendly for the brick to use something like the `csv` library to save the data to a CSV file on the brick, copy the data over to the host machine, and then process the data using *pandas* and / or whatever analysis or charting packages we want using a kernel based on the host?"
   ]
  },
  {
   "cell_type": "code",
   "execution_count": 94,
   "metadata": {
    "collapsed": true
   },
   "outputs": [],
   "source": [
    "from pandas import DataFrame"
   ]
  },
  {
   "cell_type": "code",
   "execution_count": 120,
   "metadata": {
    "collapsed": false
   },
   "outputs": [
    {
     "data": {
      "text/html": [
       "<div style=\"max-height:1000px;max-width:1500px;overflow:auto;\">\n",
       "<table border=\"1\" class=\"dataframe\">\n",
       "  <thead>\n",
       "    <tr style=\"text-align: right;\">\n",
       "      <th></th>\n",
       "      <th>value</th>\n",
       "    </tr>\n",
       "    <tr>\n",
       "      <th>datetime</th>\n",
       "      <th></th>\n",
       "    </tr>\n",
       "  </thead>\n",
       "  <tbody>\n",
       "    <tr>\n",
       "      <th>2016-05-16 15:57:23.739515</th>\n",
       "      <td> 0</td>\n",
       "    </tr>\n",
       "    <tr>\n",
       "      <th>2016-05-16 15:57:23.888700</th>\n",
       "      <td> 0</td>\n",
       "    </tr>\n",
       "    <tr>\n",
       "      <th>2016-05-16 15:57:24.020172</th>\n",
       "      <td> 0</td>\n",
       "    </tr>\n",
       "    <tr>\n",
       "      <th>2016-05-16 15:57:24.138923</th>\n",
       "      <td> 0</td>\n",
       "    </tr>\n",
       "    <tr>\n",
       "      <th>2016-05-16 15:57:24.260983</th>\n",
       "      <td> 0</td>\n",
       "    </tr>\n",
       "    <tr>\n",
       "      <th>2016-05-16 15:57:24.380033</th>\n",
       "      <td> 0</td>\n",
       "    </tr>\n",
       "    <tr>\n",
       "      <th>2016-05-16 15:57:24.496049</th>\n",
       "      <td> 0</td>\n",
       "    </tr>\n",
       "    <tr>\n",
       "      <th>2016-05-16 15:57:24.612732</th>\n",
       "      <td> 0</td>\n",
       "    </tr>\n",
       "    <tr>\n",
       "      <th>2016-05-16 15:57:24.731662</th>\n",
       "      <td> 0</td>\n",
       "    </tr>\n",
       "    <tr>\n",
       "      <th>2016-05-16 15:57:24.880443</th>\n",
       "      <td> 0</td>\n",
       "    </tr>\n",
       "  </tbody>\n",
       "</table>\n",
       "</div>"
      ],
      "text/plain": [
       "                            value\n",
       "datetime                         \n",
       "2016-05-16 15:57:23.739515      0\n",
       "2016-05-16 15:57:23.888700      0\n",
       "2016-05-16 15:57:24.020172      0\n",
       "2016-05-16 15:57:24.138923      0\n",
       "2016-05-16 15:57:24.260983      0\n",
       "2016-05-16 15:57:24.380033      0\n",
       "2016-05-16 15:57:24.496049      0\n",
       "2016-05-16 15:57:24.612732      0\n",
       "2016-05-16 15:57:24.731662      0\n",
       "2016-05-16 15:57:24.880443      0"
      ]
     },
     "execution_count": 120,
     "metadata": {},
     "output_type": "execute_result"
    }
   ],
   "source": [
    "df=DataFrame.from_records(dd.log())\n",
    "df.columns=['datetime','value']\n",
    "df.set_index('datetime',inplace=True)\n",
    "df[:10]"
   ]
  },
  {
   "cell_type": "code",
   "execution_count": 123,
   "metadata": {
    "collapsed": false
   },
   "outputs": [
    {
     "data": {
      "text/plain": [
       "<matplotlib.axes._subplots.AxesSubplot at 0xae7e59d0>"
      ]
     },
     "execution_count": 123,
     "metadata": {},
     "output_type": "execute_result"
    },
    {
     "data": {
      "image/png": "[encoded data removed]",
      "text/plain": [
       "<matplotlib.figure.Figure at 0xae7e5410>"
      ]
     },
     "metadata": {},
     "output_type": "display_data"
    }
   ],
   "source": [
    "df.plot()"
   ]
  },
  {
   "cell_type": "code",
   "execution_count": 124,
   "metadata": {
    "collapsed": true
   },
   "outputs": [],
   "source": [
    "df.to_csv('text.csv')"
   ]
  },
  {
   "cell_type": "code",
   "execution_count": 128,
   "metadata": {
    "collapsed": false
   },
   "outputs": [
    {
     "name": "stdout",
     "output_type": "stream",
     "text": [
      "('/home/robot', ['.pip', 'rik_kernel.json', '.profile', '.bashrc', '.ipython', '.idlerc', '.bash_logout', '.ssh', '.cache', '.bash_history', 'text.csv', '.config'])\n"
     ]
    }
   ],
   "source": [
    "import os\n",
    "print(os.getcwd(),os.listdir(os.getcwd()))\n",
    "\n",
    "#If we then run a kernel on host, we can use it to grab the file over via scp:\n",
    "#!scp robot@192.168.1.106:/home/robot/text.csv ./\n",
    "#and then do heavier weight charting on the host using a host based kernel"
   ]
  },
  {
   "cell_type": "code",
   "execution_count": 1,
   "metadata": {
    "collapsed": true
   },
   "outputs": [],
   "source": [
    "#Free up memory\n",
    "dd=None\n",
    "df=None"
   ]
  },
  {
   "cell_type": "markdown",
   "metadata": {},
   "source": [
    "### Final Challenge\n",
    "\n",
    "What is the final challenge?"
   ]
  },
  {
   "cell_type": "code",
   "execution_count": null,
   "metadata": {
    "collapsed": true
   },
   "outputs": [],
   "source": []
  }
 ],
 "metadata": {
  "kernelspec": {
   "display_name": "SSH robot@192.168.1.106 Ev3dev",
   "language": "",
   "name": "rik_ssh_robot_192_168_1_106_ev3dev"
  },
  "language_info": {
   "codemirror_mode": {
    "name": "ipython",
    "version": 2
   },
   "file_extension": ".py",
   "mimetype": "text/x-python",
   "name": "python",
   "nbconvert_exporter": "python",
   "pygments_lexer": "ipython2",
   "version": "2.7.9"
  },
  "widgets": {
   "state": {},
   "version": "1.1.1"
  }
 },
 "nbformat": 4,
 "nbformat_minor": 0
}
