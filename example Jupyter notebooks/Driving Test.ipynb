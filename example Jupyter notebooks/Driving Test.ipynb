{
 "cells": [
  {
   "cell_type": "markdown",
   "metadata": {},
   "source": [
    "# TXR120 Driving Test\n",
    "\n",
    "In this activity, you will learn how to drive the robot."
   ]
  },
  {
   "cell_type": "code",
   "execution_count": null,
   "metadata": {
    "collapsed": false
   },
   "outputs": [],
   "source": [
    "#Check that the notebook is connected to the brick properly\n",
    "print('hello world')"
   ]
  },
  {
   "cell_type": "markdown",
   "metadata": {},
   "source": [
    "To begin with, we need to import the Python libraries that interface with the EV3 brick. The ***** says: \"*import everything*\""
   ]
  },
  {
   "cell_type": "code",
   "execution_count": 2,
   "metadata": {
    "collapsed": true
   },
   "outputs": [],
   "source": [
    "from ev3dev.auto import *\n",
    "\n",
    "#The following enires that division works as expected in python 2.7!\n",
    "from __future__ import division"
   ]
  },
  {
   "cell_type": "markdown",
   "metadata": {},
   "source": [
    "In order to drive robot, we are going to turn the motors on and off under programmatic control.\n",
    "\n",
    "To do this, we need to configure the motors and define a way of referring to them."
   ]
  },
  {
   "cell_type": "code",
   "execution_count": 105,
   "metadata": {
    "collapsed": false
   },
   "outputs": [
    {
     "name": "stdout",
     "output_type": "stream",
     "text": [
      "ERROR! Session/line number was not unique in database. History logging moved to new session 96\n"
     ]
    }
   ],
   "source": [
    "LEFT_MOTOR = LargeMotor(OUTPUT_A)"
   ]
  },
  {
   "cell_type": "markdown",
   "metadata": {},
   "source": [
    "How do you think you could define the right motor?"
   ]
  },
  {
   "cell_type": "code",
   "execution_count": 107,
   "metadata": {
    "collapsed": false
   },
   "outputs": [],
   "source": [
    "#Answer\n",
    "RIGHT_MOTOR = LargeMotor(OUTPUT_B)"
   ]
  },
  {
   "cell_type": "markdown",
   "metadata": {},
   "source": [
    "### Tab Completion\n",
    "\n",
    "Many programming language environments support *tab completion* that can be used to autocomplete a command that you have started to type if it is recognised.\n",
    "\n",
    "If several alternatives are possible, you can select the correct command from a drop down list.\n",
    "\n",
    "Some Python objects have properties, such as attributes or \"functions\" (that is, *methods*), associated with them.\n",
    "\n",
    "For example, we can check whether or not a motor is connected:"
   ]
  },
  {
   "cell_type": "code",
   "execution_count": 5,
   "metadata": {
    "collapsed": false
   },
   "outputs": [
    {
     "data": {
      "text/plain": [
       "True"
      ]
     },
     "execution_count": 5,
     "metadata": {},
     "output_type": "execute_result"
    }
   ],
   "source": [
    "LEFT_MOTOR.connected"
   ]
  },
  {
   "cell_type": "markdown",
   "metadata": {},
   "source": [
    "or what port it is connected to:"
   ]
  },
  {
   "cell_type": "code",
   "execution_count": 6,
   "metadata": {
    "collapsed": false
   },
   "outputs": [
    {
     "data": {
      "text/plain": [
       "u'outA'"
      ]
     },
     "execution_count": 6,
     "metadata": {},
     "output_type": "execute_result"
    }
   ],
   "source": [
    "LEFT_MOTOR.address"
   ]
  },
  {
   "cell_type": "markdown",
   "metadata": {},
   "source": [
    "If you enter `LEFT_MOTOR.` and then hit tab, you will see a full list of attributes and methods associated with the object."
   ]
  },
  {
   "cell_type": "code",
   "execution_count": null,
   "metadata": {
    "collapsed": true
   },
   "outputs": [],
   "source": [
    "LEFT_MOTOR."
   ]
  },
  {
   "cell_type": "markdown",
   "metadata": {},
   "source": [
    "## Driving Forwards\n",
    "\n",
    "Having defined the motors, there are several things we can do with them, including switching them on, setting the duty cycle of the motor (effectively, its speed), setting the direction the motor turns, and switching them off in a variety of ways."
   ]
  },
  {
   "cell_type": "markdown",
   "metadata": {},
   "source": [
    "So how might we drive forwards?\n",
    "\n",
    "The following cell will turn the motors on \"forever\", or at least until we turn them off by stopping them.\n",
    "\n",
    "The *duty_cycle_sp* setting sets the motor's duty cycle, which essentially determines its speed.\n",
    "\n",
    "The *duty_cycle_sp* is a percentage value in the the range *-100..100*. The sign (positive or negative) determines the direction."
   ]
  },
  {
   "cell_type": "code",
   "execution_count": 14,
   "metadata": {
    "collapsed": false
   },
   "outputs": [],
   "source": [
    "LEFT_MOTOR.run_forever(duty_cycle_sp=75)\n",
    "RIGHT_MOTOR.run_forever(duty_cycle_sp=75)"
   ]
  },
  {
   "cell_type": "markdown",
   "metadata": {},
   "source": [
    "Stop the motors by running the following command:"
   ]
  },
  {
   "cell_type": "code",
   "execution_count": null,
   "metadata": {
    "collapsed": true
   },
   "outputs": [],
   "source": [
    "LEFT_MOTOR.stop()\n",
    "RIGHT_MOTOR.stop()"
   ]
  },
  {
   "cell_type": "markdown",
   "metadata": {},
   "source": [
    "We can drive the motors for a fixed period of time by using a `sleep()` command in between turning the motors on and stopping them."
   ]
  },
  {
   "cell_type": "code",
   "execution_count": 126,
   "metadata": {
    "collapsed": true
   },
   "outputs": [],
   "source": [
    "#Import the sleep function, which halts the progress of the programme control flow for a specified number of seconds\n",
    "from time import sleep"
   ]
  },
  {
   "cell_type": "code",
   "execution_count": 129,
   "metadata": {
    "collapsed": true
   },
   "outputs": [],
   "source": [
    "#Start driving\n",
    "LEFT_MOTOR.run_forever(duty_cycle_sp=25)\n",
    "RIGHT_MOTOR.run_forever(duty_cycle_sp=25)\n",
    "\n",
    "#Continue driving for a specified number of seconds\n",
    "sleep(3)\n",
    "\n",
    "#Then stop\n",
    "LEFT_MOTOR.stop()\n",
    "RIGHT_MOTOR.stop()"
   ]
  },
  {
   "cell_type": "markdown",
   "metadata": {},
   "source": [
    "What sort of problem or problems do you think the control strategy described above might incur?"
   ]
  },
  {
   "cell_type": "markdown",
   "metadata": {},
   "source": [
    "Alternatively, we can use the following construction, as inspired by the remote control programme, to switch off the motors:"
   ]
  },
  {
   "cell_type": "code",
   "execution_count": 17,
   "metadata": {
    "collapsed": true
   },
   "outputs": [],
   "source": [
    "#Make sure the sleep function is available from the time package\n",
    "from time import sleep\n",
    "\n",
    "#Define our own function - a collection of commands we can run from a single invocation\n",
    "def until_ev3_button_pressed():\n",
    "    \n",
    "    #The Button() function refers to the buttons on the EV3 brick\n",
    "    button = Button()\n",
    "    \n",
    "    #Sit twiddling our thumbs going round the while loop while no buttons are pressed\n",
    "    while not button.any():\n",
    "        \n",
    "        #The sleep(SECONDS) function just means the programme continues doing what it's doing for the specified period\n",
    "        sleep(0.01)\n",
    "        \n",
    "    #The programme continues here following a button press...\n",
    "    #...by turning off the motors\n",
    "    LEFT_MOTOR.stop()\n",
    "    RIGHT_MOTOR.stop()\n",
    "    \n",
    "    #And the function ends"
   ]
  },
  {
   "cell_type": "markdown",
   "metadata": {},
   "source": [
    "Run the cell to define the `until_ev3_button_pressed()` function, then you can include that function at the end of your motor command cells. For example:"
   ]
  },
  {
   "cell_type": "code",
   "execution_count": 18,
   "metadata": {
    "collapsed": false
   },
   "outputs": [],
   "source": [
    "LEFT_MOTOR.run_forever(duty_cycle_sp=75)\n",
    "RIGHT_MOTOR.run_forever(duty_cycle_sp=75)\n",
    "\n",
    "until_ev3_button_pressed()"
   ]
  },
  {
   "cell_type": "markdown",
   "metadata": {},
   "source": [
    "### Exercise - Driving in Different Directions and at Different Speeds\n",
    "\n",
    "See if you can get the robot to perform the following actions:\n",
    "\n",
    "- drive forward slowly, before you turn the motors off;\n",
    "- drive backwards at a medium pace, before you turn the motors off;\n",
    "- turn slowly about one wheel in a clockwise direction, before you turn the motors off;\n",
    "- turn slowly on the spot in a counter-clockwise direction, before you turn the motors off.\n",
    "\n",
    "*In your programme, remember to provide a means of stopping the motors.*"
   ]
  },
  {
   "cell_type": "code",
   "execution_count": null,
   "metadata": {
    "collapsed": true
   },
   "outputs": [],
   "source": [
    "#Experiment with driving the robot in different directions and at different speeds\n",
    "\n"
   ]
  },
  {
   "cell_type": "markdown",
   "metadata": {},
   "source": [
    "## Different Ways of Stopping the Motors\n",
    "\n",
    "The motors can be stopped in three different ways:\n",
    "\n",
    "- *brake*\n",
    "- *hold*\n",
    "- *coast*\n",
    "\n",
    "defined according to the following pattern: `LEFT_MOTOR.stop_command='brake'`.\n",
    "\n",
    "The appropriate means of stipping the motor is invoked when you call a motor's `.stop()` method.\n",
    "\n",
    "You can inspect the current setting using a command of the form: `LEFT_MOTOR.stop_command`\n",
    "\n",
    "Experiment with the various settings, running the motors at full tilt (`duty_cycle_sp=100`) and letting them get up to speed before stopping them.\n",
    "\n",
    "How do the motors - and the robot - behave in each case?\n",
    "\n",
    "Under what circumstances might you use the different stopping regimes?"
   ]
  },
  {
   "cell_type": "code",
   "execution_count": null,
   "metadata": {
    "collapsed": true
   },
   "outputs": [],
   "source": [
    "#Experiment with the motor stop command\n",
    "\n"
   ]
  },
  {
   "cell_type": "markdown",
   "metadata": {},
   "source": [
    "## Driving the Robot For a Fixed Distance\n",
    "\n",
    "One of the advantages of using a stepper motor is that the motor steps through a fixed number of stepped movements in a single rotation.\n",
    "\n",
    "We can look up the number of steps, which we might think of as \"ticks\" or \"clicks\", that make up a single rotation for a motor via the `count_per_rot` attribute:"
   ]
  },
  {
   "cell_type": "code",
   "execution_count": 23,
   "metadata": {
    "collapsed": false
   },
   "outputs": [
    {
     "data": {
      "text/plain": [
       "360"
      ]
     },
     "execution_count": 23,
     "metadata": {},
     "output_type": "execute_result"
    }
   ],
   "source": [
    "TICKS_PER_ROTATION = LEFT_MOTOR.count_per_rot\n",
    "TICKS_PER_ROTATION"
   ]
  },
  {
   "cell_type": "markdown",
   "metadata": {},
   "source": [
    "How many degrees are there per \"tick\" of the motor?\n",
    "\n",
    "How many ticks are required to turn the motor through one revolution?"
   ]
  },
  {
   "cell_type": "markdown",
   "metadata": {},
   "source": [
    "The motors have a couple of commands that tell it to turn *either*:\n",
    "\n",
    "- to a particular *absolute* angular position (that is, to a set \"tick\" count), for example `LEFT_MOTOR.run_to_abs_pos(position_sp=CLICKS, duty_cycle_sp=DIRSPEED)`; *or*\n",
    "- through a relative angle (that is, through that number of ticks relative to the current position), such as `LEFT_MOTOR.run_to_rel_pos(position_sp=CLICKS, duty_cycle_sp=DIRSPEED)`.\n",
    "\n",
    "The `CLICKS` value is the absolute angle the motor will turn to or the relative number of clicks turned through respectively.\n",
    "\n",
    "You can check the current value of the click count by asking a motor for its current position."
   ]
  },
  {
   "cell_type": "code",
   "execution_count": 21,
   "metadata": {
    "collapsed": false
   },
   "outputs": [
    {
     "data": {
      "text/plain": [
       "36388"
      ]
     },
     "execution_count": 21,
     "metadata": {},
     "output_type": "execute_result"
    }
   ],
   "source": [
    "LEFT_MOTOR.position"
   ]
  },
  {
   "cell_type": "markdown",
   "metadata": {},
   "source": [
    "Use the `.reset()` method to reset the state of the motor, which includes the count and any duty cycle settings."
   ]
  },
  {
   "cell_type": "code",
   "execution_count": 22,
   "metadata": {
    "collapsed": false
   },
   "outputs": [
    {
     "data": {
      "text/plain": [
       "0"
      ]
     },
     "execution_count": 22,
     "metadata": {},
     "output_type": "execute_result"
    }
   ],
   "source": [
    "LEFT_MOTOR.reset()\n",
    "LEFT_MOTOR.position"
   ]
  },
  {
   "cell_type": "markdown",
   "metadata": {},
   "source": [
    "### Exercise\n",
    "\n",
    "See if you can control the motor to perform the following actions:\n",
    "\n",
    "- reset the right motor and turn it to the *absolute* position __180__;\n",
    "- turn the right motor clockwise for a *relative* angular position of one full turn;\n",
    "- turn the left motor counter-clockwise for a *relative* angular position of quarter of a turn."
   ]
  },
  {
   "cell_type": "code",
   "execution_count": null,
   "metadata": {
    "collapsed": true
   },
   "outputs": [],
   "source": []
  },
  {
   "cell_type": "markdown",
   "metadata": {},
   "source": [
    "## Defining Our Own Functions\n",
    "\n",
    "One thing you might observe is that the `.run_to_rel_pos()` command will only turn the motor for the required number of clicks *if it has enough time to complete that action*.\n",
    "\n",
    "In the following example, the programme steps between each program statement in a fraction of a second, so only the second one really counts."
   ]
  },
  {
   "cell_type": "code",
   "execution_count": 26,
   "metadata": {
    "collapsed": true
   },
   "outputs": [],
   "source": [
    "LEFT_MOTOR.run_to_rel_pos(position_sp=360, duty_cycle_sp=50)\n",
    "LEFT_MOTOR.run_to_rel_pos(position_sp=0, duty_cycle_sp=50)\n",
    "#Run this cell to see what happens, then comment out the second run command and run it again. What's the difference?"
   ]
  },
  {
   "cell_type": "markdown",
   "metadata": {},
   "source": [
    "To fix this, we might define a function that *really* drives known distance, although the logic is a little complicated:\n",
    "\n",
    "- if the number of clicks and the motor duty cycle are both *positive*, drive forward until we reach the new position (that is, drive forward whilst the current position is *less* than the target position);\n",
    "- if either the number of clicks *or* the motor duty cycle (but *not both*) are *negative*, drive backwards until we reach the new position (that is, drive backwards whilst the current postion is *greater* than the target position);\n",
    "- if the number of clicks *and* motor duty cycle are *both* negative, don't do anything, under the assumption that the user is confused!"
   ]
  },
  {
   "cell_type": "markdown",
   "metadata": {},
   "source": [
    "As a helper function, let's create something that identifies the *sign* of a numeric value:\n",
    "- return `+1` if the value is positive;\n",
    "- return `-1` if the value is negative."
   ]
  },
  {
   "cell_type": "code",
   "execution_count": 51,
   "metadata": {
    "collapsed": true
   },
   "outputs": [],
   "source": [
    "def sgn(x):\n",
    "    if x >= 0:\n",
    "        sign=1\n",
    "    else:\n",
    "        sign=-1\n",
    "    return sign\n"
   ]
  },
  {
   "cell_type": "markdown",
   "metadata": {},
   "source": [
    "Try the function out with the following values:\n",
    "- `12`\n",
    "- `-7`\n",
    "- `0`"
   ]
  },
  {
   "cell_type": "code",
   "execution_count": 35,
   "metadata": {
    "collapsed": false
   },
   "outputs": [],
   "source": [
    "#Try the sgn() function out\n"
   ]
  },
  {
   "cell_type": "markdown",
   "metadata": {},
   "source": [
    "Now we can define a function that drives a specified number of clicks in a straight line in a hopefully appropriate direction. Note that the number of clicks must be a positive number (if it isn't, we will force it to be). The direction is set solely by the duty cycle value (postive for frowards, negative for backwards):"
   ]
  },
  {
   "cell_type": "code",
   "execution_count": 59,
   "metadata": {
    "collapsed": false
   },
   "outputs": [],
   "source": [
    "def drive_N_ticks(N=360, dirSpeed=50):\n",
    "    \n",
    "    #Ensure that we have a positive number of ticks by taking the absolute value of the ticks\n",
    "    N=abs(N)\n",
    "    \n",
    "    #Find the current position as a reference position\n",
    "    current_pos_left = LEFT_MOTOR.position\n",
    "\n",
    "    #Set the motor speed and direction\n",
    "    LEFT_MOTOR.run_forever(duty_cycle_sp=dirSpeed)\n",
    "    RIGHT_MOTOR.run_forever(duty_cycle_sp=dirSpeed)\n",
    "\n",
    "    if sgn(dirSpeed)>0:\n",
    "        #If the direction is positive, go forwards until we reach the target position\n",
    "        while LEFT_MOTOR.position < current_pos_left + N:\n",
    "            #We haven't reached the positive, going forward position yet, so carry on\n",
    "            pass\n",
    "    else:\n",
    "        #If the direction is negative, go backwards until we reach the target position\n",
    "        while LEFT_MOTOR.position > current_pos_left - N:\n",
    "            #We haven't reached the negative, going backward position yet, so carry on\n",
    "            pass\n",
    "        \n",
    "    LEFT_MOTOR.stop()\n",
    "    RIGHT_MOTOR.stop()"
   ]
  },
  {
   "cell_type": "markdown",
   "metadata": {},
   "source": [
    "### Exercise\n",
    "\n",
    "For various combinations of the relative tick count, `N`, (positive and negative integer values) and motor duty cycle, `dirSpeed`, (positive and negative percentage values), observe what happens to the motors when calling the `drive_N_ticks()` function."
   ]
  },
  {
   "cell_type": "code",
   "execution_count": 65,
   "metadata": {
    "collapsed": false
   },
   "outputs": [],
   "source": [
    "drive_N_ticks(360, 50)"
   ]
  },
  {
   "cell_type": "markdown",
   "metadata": {},
   "source": [
    "## Drive the Motor for a Fixed Distance\n",
    "\n",
    "If you can turn the *motors* through a known *angle*, how might you use the `drive_N_ticks()` function to drive the *robot* over a known *distance* in a straight line? What further information, if any, do you need, and how might you find it?"
   ]
  },
  {
   "cell_type": "code",
   "execution_count": 67,
   "metadata": {
    "collapsed": false
   },
   "outputs": [
    {
     "data": {
      "text/plain": [
       "3.141592653589793"
      ]
     },
     "execution_count": 67,
     "metadata": {},
     "output_type": "execute_result"
    }
   ],
   "source": [
    "#You may find the following constant value useful\n",
    "from math import pi\n",
    "pi"
   ]
  },
  {
   "cell_type": "code",
   "execution_count": null,
   "metadata": {
    "collapsed": true
   },
   "outputs": [],
   "source": [
    "#Find a way to define, or calculate, a constant, TICKS_PER_M, that identifies the number of ticks per meter of travel\n",
    "TICKS_PER_M=\n",
    "#Document how you calculated that value"
   ]
  },
  {
   "cell_type": "code",
   "execution_count": 69,
   "metadata": {
    "collapsed": false
   },
   "outputs": [],
   "source": [
    "#Answer\n",
    "#The basic tyre supplied with the Lego EV3 has a diameter of 56mm (it's written on the tyre).\n",
    "#It can also be calcuated from the radius, or diameter of the tyre etc etc\n",
    "#So 1 revolution moves the robot 56mm = 56mm / 1000mm per m = 0.056m\n",
    "\n",
    "#Distance per tick = circumference / ticks per revolution\n",
    "#Distance per tick= 1 / distance per tick = 1 / ( (pi * 56 / 1000) / 360) = 360 / (pi * 56 / 1000)\n",
    "#TICKS_PER_M = (360 * 1000) / (pi * 56) # ~2046\n",
    "\n",
    "\n",
    "#A more complicated answer that has lots of handy algebra in it that cancels out goes via degrees...\n",
    "#Distance per degree = distance per revolution / degrees in a revolution = 0.056 / 360 m of travel per degree\n",
    "#There are T ticks per 360 degrees, so T / 360 ticks per degree, where T = 360\n",
    "#Distance per tick = distance per degree * degrees per tick = distance per degree *  1 / (ticks per degree)\n",
    "#Number of ticks per metre = 1 / distance per tick"
   ]
  },
  {
   "cell_type": "code",
   "execution_count": null,
   "metadata": {
    "collapsed": true
   },
   "outputs": [],
   "source": [
    "#Define a function to convert a distance into a number of ticks\n",
    "def ticks_for_distance(distance_in_meters):\n",
    "    #Calculate how many ticks correspond to the specified distance in meters\n",
    "    ticks=\n",
    "    return ticks"
   ]
  },
  {
   "cell_type": "code",
   "execution_count": 70,
   "metadata": {
    "collapsed": true
   },
   "outputs": [],
   "source": [
    "#Answer\n",
    "#ticks for M metres = ticks per meter * M\n",
    "#def ticks_for_distance(distance_in_meters):\n",
    "#    #Calculate how many ticks correspond to the specified distance in meters\n",
    "#    ticks=TICKS_PER_M * distance_in_meters\n",
    "#    return ticks\n",
    "#drive_N_ticks(ticks_for_distance(0.1))"
   ]
  },
  {
   "cell_type": "code",
   "execution_count": null,
   "metadata": {
    "collapsed": true
   },
   "outputs": [],
   "source": [
    "#Test your function\n",
    "ticks=ticks_for_distance(YOUR_DISTANCE)\n",
    "ticks"
   ]
  },
  {
   "cell_type": "code",
   "execution_count": null,
   "metadata": {
    "collapsed": true
   },
   "outputs": [],
   "source": [
    "#Use your function to drive a set distance\n",
    "drive_N_ticks(ticks)"
   ]
  },
  {
   "cell_type": "markdown",
   "metadata": {},
   "source": [
    "### Exercise\n",
    "\n",
    "- drive the robot forwards for one metre;\n",
    "- reverse the robot back for one metre to where it started.\n",
    "\n",
    "*HINT: calculate the number of ticks for the specified distance, then call `drive_N_ticks()` with that number of ticks*."
   ]
  },
  {
   "cell_type": "code",
   "execution_count": null,
   "metadata": {
    "collapsed": true
   },
   "outputs": [],
   "source": []
  },
  {
   "cell_type": "markdown",
   "metadata": {},
   "source": [
    "Now create a function `drive_for_M_meters()` that will drive the specified distance in meters, in a straight line, at a specified speed."
   ]
  },
  {
   "cell_type": "code",
   "execution_count": null,
   "metadata": {
    "collapsed": true
   },
   "outputs": [],
   "source": []
  },
  {
   "cell_type": "code",
   "execution_count": 113,
   "metadata": {
    "collapsed": true
   },
   "outputs": [],
   "source": [
    "#Answer\n",
    "def drive_for_M_meters(distance_in_meters=0.1,dirSpeed=50):\n",
    "    drive_N_ticks(ticks_for_distance(distance_in_meters),dirSpeed)"
   ]
  },
  {
   "cell_type": "markdown",
   "metadata": {},
   "source": [
    "## Create a Function to Turn the Robot\n",
    "\n",
    "Make a copy of the `drive_N_ticks()` function called `turn_for_N_ticks()` and modify it so that will turn the robot on the spot for the desired number of ticks.\n",
    "\n",
    "*HINT: to change the direction of one motor relative to the other, multiply the duty cycle of the first by -1.*\n",
    "\n",
    "*HINT: to what extent do the different stop modes (`brake`, `hold`, `coast`) affect the accuracy and / or  precision of the turn?*"
   ]
  },
  {
   "cell_type": "code",
   "execution_count": null,
   "metadata": {
    "collapsed": true
   },
   "outputs": [],
   "source": []
  },
  {
   "cell_type": "code",
   "execution_count": 118,
   "metadata": {
    "collapsed": true
   },
   "outputs": [],
   "source": [
    "#Answer\n",
    "#Maybe want to brake the motors?\n",
    "def turn_for_N_ticks(N=360, dirSpeed=50):\n",
    "    \n",
    "    #Ensure that we have a positive number of ticks by taking the absolute value of the ticks\n",
    "    N=abs(N)\n",
    "    \n",
    "    #Find the current position as a reference position\n",
    "    current_pos_left = LEFT_MOTOR.position\n",
    "\n",
    "    #Set the motor speed and direction\n",
    "    LEFT_MOTOR.run_forever(duty_cycle_sp=dirSpeed)\n",
    "    RIGHT_MOTOR.run_forever(duty_cycle_sp= -1 * dirSpeed)\n",
    "\n",
    "    if sgn(dirSpeed)>0:\n",
    "        #If the direction is positive, go forwards until we reach the target position\n",
    "        while LEFT_MOTOR.position < current_pos_left + N:\n",
    "            #We haven't reached the positive, going forward position yet, so carry on\n",
    "            pass\n",
    "    else:\n",
    "        #If the direction is negative, go backwards until we reach the target position\n",
    "        while LEFT_MOTOR.position > current_pos_left - N:\n",
    "            #We haven't reached the negative, going backward position yet, so carry on\n",
    "            pass\n",
    "    \n",
    "    LEFT_MOTOR.stop_command='brake'\n",
    "    RIGHT_MOTOR.stop_command='brake'\n",
    "    \n",
    "    LEFT_MOTOR.stop()\n",
    "    RIGHT_MOTOR.stop()\n",
    "    \n",
    "turn_for_N_ticks()"
   ]
  },
  {
   "cell_type": "markdown",
   "metadata": {},
   "source": [
    "## Turn the Motor Through a Fixed Angle\n",
    "\n",
    "If you can turn the *motors* through a known *angle*, how might you turn the *robot* on the spot through a known *angle*? What further information, if any, do you need, and how might you find it?"
   ]
  },
  {
   "cell_type": "markdown",
   "metadata": {},
   "source": [
    "Define a function, `turn_for_D_degrees()`, that will turn the robot on the spot by a desired angle (in degrees) at a specified speed and direction.\n",
    "\n",
    "*HINT: if you know the distance between the wheels (the __track__ of the robot), you should be able to calculate how far each wheel must turn for the robot to complete one revolution, and hence the distance travelled per degree of turn.*\n",
    "\n",
    "*HINT: if you know how far the wheel needs to turn, you already have a function that will tell you how many ticks that corresponds to.*"
   ]
  },
  {
   "cell_type": "code",
   "execution_count": null,
   "metadata": {
    "collapsed": true
   },
   "outputs": [],
   "source": []
  },
  {
   "cell_type": "code",
   "execution_count": 112,
   "metadata": {
    "collapsed": false
   },
   "outputs": [],
   "source": [
    "#Answer\n",
    "#track ~120mm\n",
    "TRACK=120\n",
    "\n",
    "DISTANCE_PER_DEGREE = (pi * TRACK / 1000) / 360\n",
    "\n",
    "def turn_for_D_degrees(angle=360, dirSpeed=50):\n",
    "    distance=angle * DISTANCE_PER_DEGREE\n",
    "    turn_for_N_ticks(ticks_for_distance(distance),dirSpeed)\n",
    "turn_for_D_degrees()"
   ]
  },
  {
   "cell_type": "markdown",
   "metadata": {},
   "source": [
    "## Drive Round a Square\n",
    "\n",
    "Use your functions to create a programme that will drive the robot around the four sides of a square."
   ]
  },
  {
   "cell_type": "code",
   "execution_count": null,
   "metadata": {
    "collapsed": true
   },
   "outputs": [],
   "source": []
  },
  {
   "cell_type": "code",
   "execution_count": 121,
   "metadata": {
    "collapsed": true
   },
   "outputs": [],
   "source": [
    "#Answer:\n",
    "length=0.2\n",
    "angle=90\n",
    "\n",
    "drive_for_M_meters(length)\n",
    "turn_for_D_degrees(angle)\n",
    "drive_for_M_meters(length)\n",
    "turn_for_D_degrees(angle)\n",
    "drive_for_M_meters(length)\n",
    "turn_for_D_degrees(angle)\n",
    "drive_for_M_meters(length)\n",
    "turn_for_D_degrees(angle)"
   ]
  },
  {
   "cell_type": "markdown",
   "metadata": {},
   "source": [
    "## Looping Round A Set of Instructions A Fixed Number of Times\n",
    "\n",
    "What problems do you think might occur if you have to write out the same peice of code reptitively in a sequence, as you did when defining the code to drive the robout round a square?"
   ]
  },
  {
   "cell_type": "markdown",
   "metadata": {},
   "source": [
    "All modern programming languages tend to have a construct that allows you to repeat one of more lines of code a set number of times.\n",
    "\n",
    "In python, we use the following cosntruction to iterate (that is, *loop*) through a block of instructions a set number of times:"
   ]
  },
  {
   "cell_type": "code",
   "execution_count": 122,
   "metadata": {
    "collapsed": false
   },
   "outputs": [
    {
     "name": "stdout",
     "output_type": "stream",
     "text": [
      "0\n",
      "1\n",
      "2\n",
      "3\n"
     ]
    }
   ],
   "source": [
    "for i in range(4):\n",
    "    print(i)"
   ]
  },
  {
   "cell_type": "markdown",
   "metadata": {},
   "source": [
    "Use the `for ... in` construction to minimise the amount of code you need to drive the robot around a square."
   ]
  },
  {
   "cell_type": "code",
   "execution_count": 120,
   "metadata": {
    "collapsed": true
   },
   "outputs": [],
   "source": []
  },
  {
   "cell_type": "code",
   "execution_count": 125,
   "metadata": {
    "collapsed": true
   },
   "outputs": [],
   "source": [
    "#Answer\n",
    "numSides=4\n",
    "for i in range(numSides):\n",
    "    drive_for_M_meters(length)\n",
    "    turn_for_D_degrees(angle)"
   ]
  },
  {
   "cell_type": "code",
   "execution_count": null,
   "metadata": {
    "collapsed": true
   },
   "outputs": [],
   "source": []
  }
 ],
 "metadata": {
  "kernelspec": {
   "display_name": "SSH robot@192.168.1.106 Ev3dev",
   "language": "",
   "name": "rik_ssh_robot_192_168_1_106_ev3dev"
  },
  "language_info": {
   "codemirror_mode": {
    "name": "ipython",
    "version": 2
   },
   "file_extension": ".py",
   "mimetype": "text/x-python",
   "name": "python",
   "nbconvert_exporter": "python",
   "pygments_lexer": "ipython2",
   "version": "2.7.9"
  },
  "widgets": {
   "state": {},
   "version": "1.1.2"
  }
 },
 "nbformat": 4,
 "nbformat_minor": 0
}
